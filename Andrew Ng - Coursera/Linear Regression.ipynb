{
 "cells": [
  {
   "cell_type": "markdown",
   "metadata": {},
   "source": [
    "# Model and Cost Function : Linear Regression"
   ]
  },
  {
   "cell_type": "markdown",
   "metadata": {},
   "source": [
    "## Model Representation"
   ]
  },
  {
   "cell_type": "markdown",
   "metadata": {},
   "source": [
    "**x** : input / feature variables  \n",
    "**y** : output target variables  \n",
    "$(x^{(i)},y^{(i)})$ : Training example\n",
    "List of $(x^{(i)},y^{(i)})$ :Training set. a list of **m** training examples  \n",
    "**(i)** : index into training set"
   ]
  },
  {
   "cell_type": "markdown",
   "metadata": {},
   "source": [
    "**GOAL :** Given a training set, learn a function $h : x \\rightarrow y$, so that **h(x)** is a \"good\" predictor of the corresponding value of \"y\" "
   ]
  },
  {
   "cell_type": "markdown",
   "metadata": {},
   "source": [
    "**Regression :** Target variable is continuous  \n",
    "**Classification :** Target variable is discrete"
   ]
  },
  {
   "cell_type": "markdown",
   "metadata": {},
   "source": [
    "### Linear Regression Function"
   ]
  },
  {
   "cell_type": "markdown",
   "metadata": {},
   "source": [
    " $ h_\\theta(x) = \\theta_0 + \\theta_1X $"
   ]
  },
  {
   "cell_type": "markdown",
   "metadata": {},
   "source": [
    "with :  \n",
    "$\\theta_0 = intercept $  \n",
    "$\\theta_1 = slope $"
   ]
  },
  {
   "cell_type": "code",
   "execution_count": null,
   "metadata": {},
   "outputs": [],
   "source": []
  }
 ],
 "metadata": {
  "kernelspec": {
   "display_name": "Python 3",
   "language": "python",
   "name": "python3"
  },
  "language_info": {
   "codemirror_mode": {
    "name": "ipython",
    "version": 3
   },
   "file_extension": ".py",
   "mimetype": "text/x-python",
   "name": "python",
   "nbconvert_exporter": "python",
   "pygments_lexer": "ipython3",
   "version": "3.8.2"
  }
 },
 "nbformat": 4,
 "nbformat_minor": 4
}
