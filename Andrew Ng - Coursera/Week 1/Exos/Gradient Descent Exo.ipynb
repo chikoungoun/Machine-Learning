{
 "cells": [
  {
   "cell_type": "markdown",
   "metadata": {},
   "source": [
    "# Gradient Descent : Weight Height Scenario"
   ]
  },
  {
   "cell_type": "code",
   "execution_count": 1,
   "metadata": {},
   "outputs": [],
   "source": [
    "import pandas as pd\n",
    "import numpy as np\n",
    "import matplotlib.pyplot as plt\n",
    "%matplotlib inline\n",
    "import seaborn as sns"
   ]
  },
  {
   "cell_type": "code",
   "execution_count": 2,
   "metadata": {},
   "outputs": [],
   "source": [
    "df = pd.read_csv('weight-height.csv').head(100)"
   ]
  },
  {
   "cell_type": "markdown",
   "metadata": {},
   "source": [
    "**Preparaing the data**"
   ]
  },
  {
   "cell_type": "code",
   "execution_count": 3,
   "metadata": {},
   "outputs": [
    {
     "data": {
      "text/html": [
       "<div>\n",
       "<style scoped>\n",
       "    .dataframe tbody tr th:only-of-type {\n",
       "        vertical-align: middle;\n",
       "    }\n",
       "\n",
       "    .dataframe tbody tr th {\n",
       "        vertical-align: top;\n",
       "    }\n",
       "\n",
       "    .dataframe thead th {\n",
       "        text-align: right;\n",
       "    }\n",
       "</style>\n",
       "<table border=\"1\" class=\"dataframe\">\n",
       "  <thead>\n",
       "    <tr style=\"text-align: right;\">\n",
       "      <th></th>\n",
       "      <th>Gender</th>\n",
       "      <th>Height</th>\n",
       "      <th>Weight</th>\n",
       "    </tr>\n",
       "  </thead>\n",
       "  <tbody>\n",
       "    <tr>\n",
       "      <th>0</th>\n",
       "      <td>Male</td>\n",
       "      <td>1.88</td>\n",
       "      <td>110.0</td>\n",
       "    </tr>\n",
       "    <tr>\n",
       "      <th>1</th>\n",
       "      <td>Male</td>\n",
       "      <td>1.75</td>\n",
       "      <td>74.0</td>\n",
       "    </tr>\n",
       "    <tr>\n",
       "      <th>2</th>\n",
       "      <td>Male</td>\n",
       "      <td>1.88</td>\n",
       "      <td>97.0</td>\n",
       "    </tr>\n",
       "  </tbody>\n",
       "</table>\n",
       "</div>"
      ],
      "text/plain": [
       "  Gender  Height  Weight\n",
       "0   Male    1.88   110.0\n",
       "1   Male    1.75    74.0\n",
       "2   Male    1.88    97.0"
      ]
     },
     "execution_count": 3,
     "metadata": {},
     "output_type": "execute_result"
    }
   ],
   "source": [
    "df['Weight'] = round(df['Weight']/2.2)\n",
    "df['Height'] = round((df['Height']*2.54)/100,2)\n",
    "df.head(3)"
   ]
  },
  {
   "cell_type": "code",
   "execution_count": 4,
   "metadata": {},
   "outputs": [],
   "source": [
    "X = df[['Weight']]\n",
    "y = df[['Height']]"
   ]
  },
  {
   "cell_type": "code",
   "execution_count": 5,
   "metadata": {},
   "outputs": [
    {
     "data": {
      "text/html": [
       "<div>\n",
       "<style scoped>\n",
       "    .dataframe tbody tr th:only-of-type {\n",
       "        vertical-align: middle;\n",
       "    }\n",
       "\n",
       "    .dataframe tbody tr th {\n",
       "        vertical-align: top;\n",
       "    }\n",
       "\n",
       "    .dataframe thead th {\n",
       "        text-align: right;\n",
       "    }\n",
       "</style>\n",
       "<table border=\"1\" class=\"dataframe\">\n",
       "  <thead>\n",
       "    <tr style=\"text-align: right;\">\n",
       "      <th></th>\n",
       "      <th>Weight</th>\n",
       "    </tr>\n",
       "  </thead>\n",
       "  <tbody>\n",
       "    <tr>\n",
       "      <th>0</th>\n",
       "      <td>110.0</td>\n",
       "    </tr>\n",
       "    <tr>\n",
       "      <th>1</th>\n",
       "      <td>74.0</td>\n",
       "    </tr>\n",
       "    <tr>\n",
       "      <th>2</th>\n",
       "      <td>97.0</td>\n",
       "    </tr>\n",
       "    <tr>\n",
       "      <th>3</th>\n",
       "      <td>100.0</td>\n",
       "    </tr>\n",
       "    <tr>\n",
       "      <th>4</th>\n",
       "      <td>94.0</td>\n",
       "    </tr>\n",
       "    <tr>\n",
       "      <th>...</th>\n",
       "      <td>...</td>\n",
       "    </tr>\n",
       "    <tr>\n",
       "      <th>95</th>\n",
       "      <td>75.0</td>\n",
       "    </tr>\n",
       "    <tr>\n",
       "      <th>96</th>\n",
       "      <td>88.0</td>\n",
       "    </tr>\n",
       "    <tr>\n",
       "      <th>97</th>\n",
       "      <td>82.0</td>\n",
       "    </tr>\n",
       "    <tr>\n",
       "      <th>98</th>\n",
       "      <td>79.0</td>\n",
       "    </tr>\n",
       "    <tr>\n",
       "      <th>99</th>\n",
       "      <td>81.0</td>\n",
       "    </tr>\n",
       "  </tbody>\n",
       "</table>\n",
       "<p>100 rows × 1 columns</p>\n",
       "</div>"
      ],
      "text/plain": [
       "    Weight\n",
       "0    110.0\n",
       "1     74.0\n",
       "2     97.0\n",
       "3    100.0\n",
       "4     94.0\n",
       "..     ...\n",
       "95    75.0\n",
       "96    88.0\n",
       "97    82.0\n",
       "98    79.0\n",
       "99    81.0\n",
       "\n",
       "[100 rows x 1 columns]"
      ]
     },
     "execution_count": 5,
     "metadata": {},
     "output_type": "execute_result"
    }
   ],
   "source": [
    "X"
   ]
  },
  {
   "cell_type": "code",
   "execution_count": 6,
   "metadata": {},
   "outputs": [],
   "source": [
    "n_rows = df.shape[0]"
   ]
  },
  {
   "cell_type": "code",
   "execution_count": 7,
   "metadata": {},
   "outputs": [],
   "source": [
    "X = X.to_numpy().reshape(n_rows,1)"
   ]
  },
  {
   "cell_type": "code",
   "execution_count": 8,
   "metadata": {},
   "outputs": [
    {
     "data": {
      "text/plain": [
       "array([[110.],\n",
       "       [ 74.],\n",
       "       [ 97.],\n",
       "       [100.],\n",
       "       [ 94.]])"
      ]
     },
     "execution_count": 8,
     "metadata": {},
     "output_type": "execute_result"
    }
   ],
   "source": [
    "X[:5]"
   ]
  },
  {
   "cell_type": "code",
   "execution_count": 9,
   "metadata": {},
   "outputs": [
    {
     "data": {
      "text/plain": [
       "array([[1.],\n",
       "       [1.],\n",
       "       [1.],\n",
       "       [1.],\n",
       "       [1.]])"
      ]
     },
     "execution_count": 9,
     "metadata": {},
     "output_type": "execute_result"
    }
   ],
   "source": [
    "ones = np.ones((n_rows,1))\n",
    "ones[:5]"
   ]
  },
  {
   "cell_type": "markdown",
   "metadata": {},
   "source": [
    "**Rewriting X in terms $n x 2$ matrix**"
   ]
  },
  {
   "cell_type": "code",
   "execution_count": 10,
   "metadata": {},
   "outputs": [
    {
     "data": {
      "text/plain": [
       "array([[  1., 110.],\n",
       "       [  1.,  74.],\n",
       "       [  1.,  97.],\n",
       "       [  1., 100.],\n",
       "       [  1.,  94.]])"
      ]
     },
     "execution_count": 10,
     "metadata": {},
     "output_type": "execute_result"
    }
   ],
   "source": [
    "X = np.concatenate((ones,X),axis=1)\n",
    "X[:5]"
   ]
  },
  {
   "cell_type": "code",
   "execution_count": 11,
   "metadata": {},
   "outputs": [
    {
     "data": {
      "text/plain": [
       "array([[1.88],\n",
       "       [1.75],\n",
       "       [1.88],\n",
       "       [1.82],\n",
       "       [1.77]])"
      ]
     },
     "execution_count": 11,
     "metadata": {},
     "output_type": "execute_result"
    }
   ],
   "source": [
    "y=y.to_numpy().reshape(n_rows,1)\n",
    "y[:5]"
   ]
  },
  {
   "cell_type": "code",
   "execution_count": 12,
   "metadata": {},
   "outputs": [
    {
     "data": {
      "text/plain": [
       "((100, 2), (100, 1))"
      ]
     },
     "execution_count": 12,
     "metadata": {},
     "output_type": "execute_result"
    }
   ],
   "source": [
    "X.shape, y.shape"
   ]
  },
  {
   "cell_type": "markdown",
   "metadata": {},
   "source": [
    "### Plotting Data"
   ]
  },
  {
   "cell_type": "code",
   "execution_count": 13,
   "metadata": {},
   "outputs": [
    {
     "data": {
      "image/png": "[encoded data removed]",
      "text/plain": [
       "<Figure size 432x288 with 1 Axes>"
      ]
     },
     "metadata": {
      "needs_background": "light"
     },
     "output_type": "display_data"
    }
   ],
   "source": [
    "plt.scatter(x=df['Weight'], y=df['Height'])\n",
    "plt.xlabel('X'); plt.ylabel('y');\n",
    "plt.title('Input dataset');\n",
    "\n"
   ]
  },
  {
   "cell_type": "markdown",
   "metadata": {},
   "source": [
    "### Cost Function"
   ]
  },
  {
   "cell_type": "markdown",
   "metadata": {},
   "source": [
    "$J(θ_0​,θ_1​)=\\frac{1}{2m}​\\sum\\limits_{i=1}^{m}(\\hat{y}_{i} - y_{i})^2 = \\frac{1}{2m}​\\sum\\limits_{i=1}^{m}(h_{\\theta}(x_i) - y_{i})^2$"
   ]
  },
  {
   "cell_type": "markdown",
   "metadata": {},
   "source": [
    "knowing that the general rule  for $h_\\theta(x)$ gives :  \n",
    "  \n",
    "  $h_\\theta(x) =  \\theta^T X$\n",
    "\n"
   ]
  },
  {
   "cell_type": "code",
   "execution_count": 14,
   "metadata": {},
   "outputs": [
    {
     "data": {
      "text/plain": [
       "array([[0],\n",
       "       [0]])"
      ]
     },
     "execution_count": 14,
     "metadata": {},
     "output_type": "execute_result"
    }
   ],
   "source": [
    "# So in Python\n",
    "Theta = np.array([[0],[0]])\n",
    "Theta"
   ]
  },
  {
   "cell_type": "code",
   "execution_count": 15,
   "metadata": {},
   "outputs": [],
   "source": [
    "def compute_cost(X, y, theta=np.array([[0],[0]])):\n",
    "    \"\"\"Given covariate matrix X, the prediction results y and coefficients theta\n",
    "    compute the loss\"\"\"\n",
    "    \n",
    "    m = len(y)\n",
    "    J=0 # initialize loss to zero\n",
    "    \n",
    "    # reshape theta\n",
    "    #theta=theta.reshape(2,1)\n",
    "    \n",
    "    # calculate the hypothesis - y_hat\n",
    "    h_x = np.dot(X,theta)\n",
    "    #print(h_x)\n",
    "    \n",
    "    # subtract y from y_hat, square and sum\n",
    "    error_term = sum((h_x - y)**2)\n",
    "    print(error_term)\n",
    "    \n",
    "    # divide by twice the number of samples - standard practice.\n",
    "    loss = error_term/(2*m)\n",
    "    \n",
    "    return loss"
   ]
  },
  {
   "cell_type": "code",
   "execution_count": 16,
   "metadata": {},
   "outputs": [
    {
     "data": {
      "text/plain": [
       "array([[0],\n",
       "       [0]])"
      ]
     },
     "execution_count": 16,
     "metadata": {},
     "output_type": "execute_result"
    }
   ],
   "source": [
    "theta=np.array([[0],[0]])\n",
    "theta=theta.reshape(2,1)\n",
    "theta"
   ]
  },
  {
   "cell_type": "code",
   "execution_count": 36,
   "metadata": {},
   "outputs": [
    {
     "data": {
      "text/plain": [
       "array([[0.],\n",
       "       [0.],\n",
       "       [0.],\n",
       "       [0.],\n",
       "       [0.]])"
      ]
     },
     "execution_count": 36,
     "metadata": {},
     "output_type": "execute_result"
    }
   ],
   "source": [
    "np.dot(X,theta)[:5]"
   ]
  },
  {
   "cell_type": "code",
   "execution_count": 18,
   "metadata": {},
   "outputs": [
    {
     "name": "stdout",
     "output_type": "stream",
     "text": [
      "[308.0128]\n"
     ]
    },
    {
     "data": {
      "text/plain": [
       "array([1.540064])"
      ]
     },
     "execution_count": 18,
     "metadata": {},
     "output_type": "execute_result"
    }
   ],
   "source": [
    "compute_cost(X,y)"
   ]
  },
  {
   "cell_type": "markdown",
   "metadata": {},
   "source": [
    "### Use Gradient Descent"
   ]
  },
  {
   "cell_type": "markdown",
   "metadata": {},
   "source": [
    "Repeat the operations until convergence : "
   ]
  },
  {
   "cell_type": "markdown",
   "metadata": {},
   "source": [
    "$\\theta_{0} := \\theta_{0} - \\alpha \\frac{1}{m} \\sum_{i=1}^{m} [(h_{\\theta}(x_{i}) - y_{i})x^{(0)}_{i}]$"
   ]
  },
  {
   "cell_type": "markdown",
   "metadata": {},
   "source": [
    "$\\theta_{1} := \\theta_{1} - \\alpha \\frac{1}{m} \\sum_{i=1}^{m} [(h_{\\theta}(x_{i}) - y_{i})x^{(1)}_{i}]$"
   ]
  },
  {
   "cell_type": "markdown",
   "metadata": {},
   "source": [
    "**Translating  to python**"
   ]
  },
  {
   "cell_type": "markdown",
   "metadata": {},
   "source": [
    "* $\\alpha$ : constant defined"
   ]
  },
  {
   "cell_type": "markdown",
   "metadata": {},
   "source": [
    "* $m$ : size of the set"
   ]
  },
  {
   "cell_type": "code",
   "execution_count": 27,
   "metadata": {},
   "outputs": [],
   "source": [
    "m = len(y)"
   ]
  },
  {
   "cell_type": "markdown",
   "metadata": {},
   "source": [
    "* $(h_{\\theta}(x_{i}) - y_{i})$ : error"
   ]
  },
  {
   "cell_type": "code",
   "execution_count": 28,
   "metadata": {},
   "outputs": [],
   "source": [
    "error = (np.dot(X,theta) - y)"
   ]
  },
  {
   "cell_type": "code",
   "execution_count": 29,
   "metadata": {},
   "outputs": [
    {
     "data": {
      "text/plain": [
       "array([[-1.88],\n",
       "       [-1.75],\n",
       "       [-1.88],\n",
       "       [-1.82],\n",
       "       [-1.77]])"
      ]
     },
     "execution_count": 29,
     "metadata": {},
     "output_type": "execute_result"
    }
   ],
   "source": [
    "error[:5]"
   ]
  },
  {
   "cell_type": "markdown",
   "metadata": {},
   "source": [
    "* $\\sum_{i=1}^{m} [(h_{\\theta}(x_{i}) - y_{i})x^{(1)}_{i}]$"
   ]
  },
  {
   "cell_type": "code",
   "execution_count": 35,
   "metadata": {},
   "outputs": [
    {
     "data": {
      "text/plain": [
       "array([[  1., 110.],\n",
       "       [  1.,  74.],\n",
       "       [  1.,  97.],\n",
       "       [  1., 100.],\n",
       "       [  1.,  94.],\n",
       "       [  1.,  69.],\n",
       "       [  1.,  84.],\n",
       "       [  1.,  76.],\n",
       "       [  1.,  80.],\n",
       "       [  1.,  71.],\n",
       "       [  1.,  85.],\n",
       "       [  1.,  97.],\n",
       "       [  1.,  76.],\n",
       "       [  1.,  86.],\n",
       "       [  1.,  85.],\n",
       "       [  1.,  78.],\n",
       "       [  1.,  89.],\n",
       "       [  1.,  79.],\n",
       "       [  1.,  85.],\n",
       "       [  1.,  83.],\n",
       "       [  1.,  79.],\n",
       "       [  1.,  90.],\n",
       "       [  1.,  68.],\n",
       "       [  1., 104.],\n",
       "       [  1.,  74.],\n",
       "       [  1.,  87.],\n",
       "       [  1.,  84.],\n",
       "       [  1.,  94.],\n",
       "       [  1.,  80.],\n",
       "       [  1.,  70.],\n",
       "       [  1.,  85.],\n",
       "       [  1.,  97.],\n",
       "       [  1.,  89.],\n",
       "       [  1.,  93.],\n",
       "       [  1.,  93.],\n",
       "       [  1.,  88.],\n",
       "       [  1.,  90.],\n",
       "       [  1.,  84.],\n",
       "       [  1.,  74.],\n",
       "       [  1.,  74.],\n",
       "       [  1.,  78.],\n",
       "       [  1.,  88.],\n",
       "       [  1.,  77.],\n",
       "       [  1.,  73.],\n",
       "       [  1.,  75.],\n",
       "       [  1.,  86.],\n",
       "       [  1.,  85.],\n",
       "       [  1.,  95.],\n",
       "       [  1.,  87.],\n",
       "       [  1.,  96.],\n",
       "       [  1.,  75.],\n",
       "       [  1.,  91.],\n",
       "       [  1.,  79.],\n",
       "       [  1.,  82.],\n",
       "       [  1.,  77.],\n",
       "       [  1.,  74.],\n",
       "       [  1.,  86.],\n",
       "       [  1.,  87.],\n",
       "       [  1.,  90.],\n",
       "       [  1.,  95.],\n",
       "       [  1.,  90.],\n",
       "       [  1.,  90.],\n",
       "       [  1.,  89.],\n",
       "       [  1.,  75.],\n",
       "       [  1.,  82.],\n",
       "       [  1.,  71.],\n",
       "       [  1.,  84.],\n",
       "       [  1., 100.],\n",
       "       [  1.,  83.],\n",
       "       [  1.,  89.],\n",
       "       [  1.,  84.],\n",
       "       [  1.,  94.],\n",
       "       [  1.,  81.],\n",
       "       [  1.,  74.],\n",
       "       [  1.,  98.],\n",
       "       [  1.,  93.],\n",
       "       [  1.,  91.],\n",
       "       [  1., 100.],\n",
       "       [  1.,  89.],\n",
       "       [  1.,  77.],\n",
       "       [  1.,  82.],\n",
       "       [  1.,  90.],\n",
       "       [  1., 108.],\n",
       "       [  1.,  79.],\n",
       "       [  1.,  73.],\n",
       "       [  1.,  86.],\n",
       "       [  1.,  95.],\n",
       "       [  1.,  88.],\n",
       "       [  1.,  79.],\n",
       "       [  1.,  90.],\n",
       "       [  1.,  92.],\n",
       "       [  1.,  82.],\n",
       "       [  1.,  83.],\n",
       "       [  1.,  81.],\n",
       "       [  1.,  75.],\n",
       "       [  1.,  75.],\n",
       "       [  1.,  88.],\n",
       "       [  1.,  82.],\n",
       "       [  1.,  79.],\n",
       "       [  1.,  81.]])"
      ]
     },
     "execution_count": 35,
     "metadata": {},
     "output_type": "execute_result"
    }
   ],
   "source": [
    "X"
   ]
  },
  {
   "cell_type": "markdown",
   "metadata": {},
   "source": [
    "Turn the $x$ into a vector for better multiplication"
   ]
  },
  {
   "cell_type": "code",
   "execution_count": 34,
   "metadata": {},
   "outputs": [
    {
     "data": {
      "text/plain": [
       "array([[1.],\n",
       "       [1.],\n",
       "       [1.],\n",
       "       [1.],\n",
       "       [1.]])"
      ]
     },
     "execution_count": 34,
     "metadata": {},
     "output_type": "execute_result"
    }
   ],
   "source": [
    "X[:,0].reshape(m,1)[:5]"
   ]
  },
  {
   "cell_type": "code",
   "execution_count": null,
   "metadata": {},
   "outputs": [],
   "source": []
  },
  {
   "cell_type": "code",
   "execution_count": null,
   "metadata": {},
   "outputs": [],
   "source": []
  }
 ],
 "metadata": {
  "kernelspec": {
   "display_name": "Python 3",
   "language": "python",
   "name": "python3"
  },
  "language_info": {
   "codemirror_mode": {
    "name": "ipython",
    "version": 3
   },
   "file_extension": ".py",
   "mimetype": "text/x-python",
   "name": "python",
   "nbconvert_exporter": "python",
   "pygments_lexer": "ipython3",
   "version": "3.8.2"
  }
 },
 "nbformat": 4,
 "nbformat_minor": 4
}
