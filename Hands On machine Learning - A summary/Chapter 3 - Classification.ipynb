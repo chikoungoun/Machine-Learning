{
 "cells": [
  {
   "cell_type": "code",
   "execution_count": 2,
   "id": "4cf1a911",
   "metadata": {},
   "outputs": [],
   "source": [
    "import sys\n",
    "import os\n",
    "\n",
    "import numpy as np\n",
    "import sklearn\n",
    "\n",
    "import matplotlib as mpl\n",
    "import matplotlib.pyplot as plt\n",
    "\n"
   ]
  },
  {
   "cell_type": "markdown",
   "id": "88290c32",
   "metadata": {},
   "source": [
    "# MNIST"
   ]
  },
  {
   "cell_type": "markdown",
   "id": "4e603b64",
   "metadata": {},
   "source": [
    "* Fetch the **MNIST** dataset **Mixed National Institute of Standards and Technology**"
   ]
  },
  {
   "cell_type": "code",
   "execution_count": 3,
   "id": "726e8f90",
   "metadata": {},
   "outputs": [
    {
     "data": {
      "text/plain": [
       "dict_keys(['data', 'target', 'frame', 'categories', 'feature_names', 'target_names', 'DESCR', 'details', 'url'])"
      ]
     },
     "execution_count": 3,
     "metadata": {},
     "output_type": "execute_result"
    }
   ],
   "source": [
    "from sklearn.datasets import fetch_openml\n",
    "\n",
    "mnist = fetch_openml('mnist_784',version=1,as_frame=False)\n",
    "mnist.keys()"
   ]
  },
  {
   "cell_type": "code",
   "execution_count": 5,
   "id": "e86bf982",
   "metadata": {},
   "outputs": [
    {
     "data": {
      "text/plain": [
       "array([[0., 0., 0., ..., 0., 0., 0.],\n",
       "       [0., 0., 0., ..., 0., 0., 0.],\n",
       "       [0., 0., 0., ..., 0., 0., 0.],\n",
       "       ...,\n",
       "       [0., 0., 0., ..., 0., 0., 0.],\n",
       "       [0., 0., 0., ..., 0., 0., 0.],\n",
       "       [0., 0., 0., ..., 0., 0., 0.]])"
      ]
     },
     "execution_count": 5,
     "metadata": {},
     "output_type": "execute_result"
    }
   ],
   "source": [
    "mnist['data']"
   ]
  },
  {
   "cell_type": "code",
   "execution_count": 6,
   "id": "83a46fb6",
   "metadata": {},
   "outputs": [
    {
     "data": {
      "text/plain": [
       "\"**Author**: Yann LeCun, Corinna Cortes, Christopher J.C. Burges  \\n**Source**: [MNIST Website](http://yann.lecun.com/exdb/mnist/) - Date unknown  \\n**Please cite**:  \\n\\nThe MNIST database of handwritten digits with 784 features, raw data available at: http://yann.lecun.com/exdb/mnist/. It can be split in a training set of the first 60,000 examples, and a test set of 10,000 examples  \\n\\nIt is a subset of a larger set available from NIST. The digits have been size-normalized and centered in a fixed-size image. It is a good database for people who want to try learning techniques and pattern recognition methods on real-world data while spending minimal efforts on preprocessing and formatting. The original black and white (bilevel) images from NIST were size normalized to fit in a 20x20 pixel box while preserving their aspect ratio. The resulting images contain grey levels as a result of the anti-aliasing technique used by the normalization algorithm. the images were centered in a 28x28 image by computing the center of mass of the pixels, and translating the image so as to position this point at the center of the 28x28 field.  \\n\\nWith some classification methods (particularly template-based methods, such as SVM and K-nearest neighbors), the error rate improves when the digits are centered by bounding box rather than center of mass. If you do this kind of pre-processing, you should report it in your publications. The MNIST database was constructed from NIST's NIST originally designated SD-3 as their training set and SD-1 as their test set. However, SD-3 is much cleaner and easier to recognize than SD-1. The reason for this can be found on the fact that SD-3 was collected among Census Bureau employees, while SD-1 was collected among high-school students. Drawing sensible conclusions from learning experiments requires that the result be independent of the choice of training set and test among the complete set of samples. Therefore it was necessary to build a new database by mixing NIST's datasets.  \\n\\nThe MNIST training set is composed of 30,000 patterns from SD-3 and 30,000 patterns from SD-1. Our test set was composed of 5,000 patterns from SD-3 and 5,000 patterns from SD-1. The 60,000 pattern training set contained examples from approximately 250 writers. We made sure that the sets of writers of the training set and test set were disjoint. SD-1 contains 58,527 digit images written by 500 different writers. In contrast to SD-3, where blocks of data from each writer appeared in sequence, the data in SD-1 is scrambled. Writer identities for SD-1 is available and we used this information to unscramble the writers. We then split SD-1 in two: characters written by the first 250 writers went into our new training set. The remaining 250 writers were placed in our test set. Thus we had two sets with nearly 30,000 examples each. The new training set was completed with enough examples from SD-3, starting at pattern # 0, to make a full set of 60,000 training patterns. Similarly, the new test set was completed with SD-3 examples starting at pattern # 35,000 to make a full set with 60,000 test patterns. Only a subset of 10,000 test images (5,000 from SD-1 and 5,000 from SD-3) is available on this site. The full 60,000 sample training set is available.\\n\\nDownloaded from openml.org.\""
      ]
     },
     "execution_count": 6,
     "metadata": {},
     "output_type": "execute_result"
    }
   ],
   "source": [
    "mnist['DESCR']"
   ]
  },
  {
   "cell_type": "code",
   "execution_count": 7,
   "id": "cf753f53",
   "metadata": {},
   "outputs": [
    {
     "data": {
      "text/plain": [
       "(70000, 784)"
      ]
     },
     "execution_count": 7,
     "metadata": {},
     "output_type": "execute_result"
    }
   ],
   "source": [
    "X, y =mnist['data'],mnist['target']\n",
    "X.shape"
   ]
  },
  {
   "cell_type": "code",
   "execution_count": 8,
   "id": "40290351",
   "metadata": {},
   "outputs": [
    {
     "data": {
      "text/plain": [
       "(70000,)"
      ]
     },
     "execution_count": 8,
     "metadata": {},
     "output_type": "execute_result"
    }
   ],
   "source": [
    "y.shape"
   ]
  },
  {
   "cell_type": "markdown",
   "id": "b6493923",
   "metadata": {},
   "source": [
    "* 70,000 images with 784 features each representing a 28x28 pixel grid with a pixel intensity ranging from 0 to 255."
   ]
  },
  {
   "cell_type": "code",
   "execution_count": 29,
   "id": "5af44b42",
   "metadata": {},
   "outputs": [
    {
     "data": {
      "text/plain": [
       "784"
      ]
     },
     "execution_count": 29,
     "metadata": {},
     "output_type": "execute_result"
    }
   ],
   "source": [
    "len(X[0])"
   ]
  },
  {
   "cell_type": "code",
   "execution_count": 11,
   "id": "ea608f8d",
   "metadata": {},
   "outputs": [
    {
     "data": {
      "image/png": "[encoded data removed]",
      "text/plain": [
       "<Figure size 432x288 with 1 Axes>"
      ]
     },
     "metadata": {
      "needs_background": "light"
     },
     "output_type": "display_data"
    }
   ],
   "source": [
    "some_digit = X[0]#array representation of a number\n",
    "some_digit_image = some_digit.reshape(28,28)\n",
    "\n",
    "plt.imshow(some_digit_image,cmap=mpl.cm.binary)\n",
    "plt.axis('off')\n",
    "\n",
    "plt.show()"
   ]
  },
  {
   "cell_type": "code",
   "execution_count": 12,
   "id": "a654898b",
   "metadata": {},
   "outputs": [
    {
     "data": {
      "text/plain": [
       "'5'"
      ]
     },
     "execution_count": 12,
     "metadata": {},
     "output_type": "execute_result"
    }
   ],
   "source": [
    "y[0]"
   ]
  },
  {
   "cell_type": "code",
   "execution_count": 15,
   "id": "6cb95094",
   "metadata": {},
   "outputs": [
    {
     "data": {
      "text/plain": [
       "array([5, 0, 4, ..., 4, 5, 6], dtype=uint8)"
      ]
     },
     "execution_count": 15,
     "metadata": {},
     "output_type": "execute_result"
    }
   ],
   "source": [
    "y = y.astype(np.uint8)\n",
    "y"
   ]
  },
  {
   "cell_type": "markdown",
   "id": "c37b2d09",
   "metadata": {},
   "source": [
    "* Setting aside our test set. In this dataset they were already gathered as being the last 10,000 observations."
   ]
  },
  {
   "cell_type": "code",
   "execution_count": 16,
   "id": "7311eaea",
   "metadata": {},
   "outputs": [],
   "source": [
    "X_train, X_test, y_train, y_test = X[:60000],X[60000:],y[:60000],y[60000:]"
   ]
  },
  {
   "cell_type": "markdown",
   "id": "1e067ced",
   "metadata": {},
   "source": [
    "# Training a Binary Classifier"
   ]
  },
  {
   "cell_type": "markdown",
   "id": "9b45a897",
   "metadata": {},
   "source": [
    "We simplify the problem by focusing on a **binary classifier**, trying to detect whether it's a **5** or a **non-5** (2 classes)."
   ]
  },
  {
   "cell_type": "code",
   "execution_count": 17,
   "id": "100eb155",
   "metadata": {},
   "outputs": [],
   "source": [
    "y_train_5 = (y_train == 5)\n",
    "y_test_5 = (y_test == 5)"
   ]
  },
  {
   "cell_type": "markdown",
   "id": "c17c9172",
   "metadata": {},
   "source": [
    "* We start by training a Stochastic Gradient Descent (SGD) classifier."
   ]
  },
  {
   "cell_type": "code",
   "execution_count": 20,
   "id": "be5fbc31",
   "metadata": {},
   "outputs": [
    {
     "data": {
      "text/plain": [
       "SGDClassifier(random_state=42)"
      ]
     },
     "execution_count": 20,
     "metadata": {},
     "output_type": "execute_result"
    }
   ],
   "source": [
    "from sklearn.linear_model import SGDClassifier\n",
    "\n",
    "sgd_clf = SGDClassifier(random_state=42)\n",
    "sgd_clf.fit(X_train, y_train_5)"
   ]
  },
  {
   "cell_type": "markdown",
   "id": "25c9b250",
   "metadata": {},
   "source": [
    "* We use it to detect images of the number 5"
   ]
  },
  {
   "cell_type": "code",
   "execution_count": 21,
   "id": "b0453fb1",
   "metadata": {},
   "outputs": [
    {
     "data": {
      "text/plain": [
       "array([ True])"
      ]
     },
     "execution_count": 21,
     "metadata": {},
     "output_type": "execute_result"
    }
   ],
   "source": [
    "sgd_clf.predict([some_digit])"
   ]
  },
  {
   "cell_type": "markdown",
   "id": "0599793a",
   "metadata": {},
   "source": [
    "=> The classifier guesses that the image represents a 5."
   ]
  },
  {
   "cell_type": "markdown",
   "id": "2d578ff4",
   "metadata": {},
   "source": [
    "# Performance measures"
   ]
  },
  {
   "cell_type": "markdown",
   "id": "d4b08832",
   "metadata": {},
   "source": [
    "* Evaluating a classifier is trickier than evaluating a regressor."
   ]
  },
  {
   "cell_type": "markdown",
   "id": "fa0a8fdb",
   "metadata": {},
   "source": [
    "## Measuring accuracy using Cross-Validation"
   ]
  },
  {
   "cell_type": "markdown",
   "id": "b42933bb",
   "metadata": {},
   "source": [
    "### Stratified K-Folds"
   ]
  },
  {
   "cell_type": "markdown",
   "id": "6b8cbcda",
   "metadata": {},
   "source": [
    "Performs stratified sampling to produce folds with representative ratio of each class."
   ]
  },
  {
   "cell_type": "code",
   "execution_count": 22,
   "id": "5307564d",
   "metadata": {},
   "outputs": [
    {
     "name": "stdout",
     "output_type": "stream",
     "text": [
      "0.9669\n",
      "0.91625\n",
      "0.96785\n"
     ]
    }
   ],
   "source": [
    "from sklearn.model_selection import StratifiedKFold\n",
    "from sklearn.base import clone\n",
    "\n",
    "skfolds = StratifiedKFold(n_splits=3,shuffle=True,random_state=42)\n",
    "\n",
    "for train_index, test_index in skfolds.split(X_train, y_train_5):\n",
    "    clone_clf = clone(sgd_clf)\n",
    "    X_train_folds = X_train[train_index]\n",
    "    y_train_folds = y_train_5[train_index]\n",
    "    X_test_fold = X_train[test_index]\n",
    "    y_test_fold = y_train_5[test_index]\n",
    "    \n",
    "    clone_clf.fit(X_train_folds, y_train_folds)\n",
    "    y_pred = clone_clf.predict(X_test_fold)\n",
    "    n_correct = sum(y_pred == y_test_fold)\n",
    "    print(n_correct/len(y_pred))"
   ]
  },
  {
   "cell_type": "markdown",
   "id": "1c7c7a73",
   "metadata": {},
   "source": [
    "### Cross-Validation"
   ]
  },
  {
   "cell_type": "code",
   "execution_count": 23,
   "id": "8c435bee",
   "metadata": {},
   "outputs": [
    {
     "data": {
      "text/plain": [
       "array([0.95035, 0.96035, 0.9604 ])"
      ]
     },
     "execution_count": 23,
     "metadata": {},
     "output_type": "execute_result"
    }
   ],
   "source": [
    "from sklearn.model_selection import cross_val_score\n",
    "\n",
    "cross_val_score(sgd_clf, X_train, y_train_5, cv=3, scoring=\"accuracy\")"
   ]
  },
  {
   "cell_type": "markdown",
   "id": "d6ae3fec",
   "metadata": {},
   "source": [
    "* more than 95% accuracy on all folds"
   ]
  },
  {
   "cell_type": "markdown",
   "id": "f2e4dfbe",
   "metadata": {},
   "source": [
    "### Dumb Classifier"
   ]
  },
  {
   "cell_type": "markdown",
   "id": "c0717760",
   "metadata": {},
   "source": [
    "Classify as not-5 every single image"
   ]
  },
  {
   "cell_type": "code",
   "execution_count": 24,
   "id": "a81f5674",
   "metadata": {},
   "outputs": [],
   "source": [
    "from sklearn.base import BaseEstimator\n",
    "\n",
    "class Never5Classifier(BaseEstimator):\n",
    "    def fit(self, X, y=None):\n",
    "        pass\n",
    "    def predict(self, X):\n",
    "        return np.zeros((len(X),1),dtype=bool)"
   ]
  },
  {
   "cell_type": "code",
   "execution_count": 26,
   "id": "ae378524",
   "metadata": {},
   "outputs": [
    {
     "data": {
      "text/plain": [
       "array([0.91125, 0.90855, 0.90915])"
      ]
     },
     "execution_count": 26,
     "metadata": {},
     "output_type": "execute_result"
    }
   ],
   "source": [
    "never_5_clf = Never5Classifier()\n",
    "cross_val_score(never_5_clf, X_train, y_train_5, cv=3, scoring=\"accuracy\")"
   ]
  },
  {
   "cell_type": "markdown",
   "id": "98d95f2d",
   "metadata": {},
   "source": [
    "## Confusion Matrix"
   ]
  },
  {
   "cell_type": "markdown",
   "id": "e86e65c2",
   "metadata": {},
   "source": [
    "Confusion Matrix is a better way to evaluate the performance of a classifier. (count the number of times instances of class A are classified as class B)."
   ]
  },
  {
   "cell_type": "markdown",
   "id": "efaba604",
   "metadata": {},
   "source": [
    "* we need a set of predictions to compute the confusion matrix. We will use it on our train set to save the test one."
   ]
  },
  {
   "cell_type": "code",
   "execution_count": 30,
   "id": "3579ad06",
   "metadata": {},
   "outputs": [],
   "source": [
    "from sklearn.model_selection import cross_val_predict\n",
    "\n",
    "#returns a set of predictions after performing K-folds cross-validation\n",
    "y_train_pred = cross_val_predict(sgd_clf,X_train, y_train_5, cv=3)"
   ]
  },
  {
   "cell_type": "code",
   "execution_count": 32,
   "id": "87b20352",
   "metadata": {},
   "outputs": [
    {
     "data": {
      "text/plain": [
       "60000"
      ]
     },
     "execution_count": 32,
     "metadata": {},
     "output_type": "execute_result"
    }
   ],
   "source": [
    "len(y_train_pred)"
   ]
  },
  {
   "cell_type": "markdown",
   "id": "0c54d61b",
   "metadata": {},
   "source": [
    "* Confusion Matrix"
   ]
  },
  {
   "cell_type": "code",
   "execution_count": 33,
   "id": "c53f6498",
   "metadata": {},
   "outputs": [
    {
     "data": {
      "text/plain": [
       "array([[53892,   687],\n",
       "       [ 1891,  3530]], dtype=int64)"
      ]
     },
     "execution_count": 33,
     "metadata": {},
     "output_type": "execute_result"
    }
   ],
   "source": [
    "from sklearn.metrics import confusion_matrix\n",
    "\n",
    "confusion_matrix(y_train_5, y_train_pred)"
   ]
  },
  {
   "cell_type": "markdown",
   "id": "a929c48d",
   "metadata": {},
   "source": [
    "Each row represents an **actual class** while each column represents a **predicted class**"
   ]
  },
  {
   "cell_type": "code",
   "execution_count": 41,
   "id": "377faa87",
   "metadata": {},
   "outputs": [
    {
     "data": {
      "image/png": "[encoded data removed]",
      "text/plain": [
       "<IPython.core.display.Image object>"
      ]
     },
     "execution_count": 41,
     "metadata": {},
     "output_type": "execute_result"
    }
   ],
   "source": [
    "## Ipython image of confusion matrix\n",
    "from IPython.display import Image \n",
    "Image(\"media\\\\matrix.png\")"
   ]
  },
  {
   "cell_type": "markdown",
   "id": "54a8092d",
   "metadata": {},
   "source": [
    "* First row considers non-5 images\n",
    "    * 53892 correctly classified as non-5 (**T**rue **N**egatives)\n",
    "    * The rest was wrongly classifeif as 5s (**F**alse **P**ositives)\n",
    "    \n",
    "* Second row considers 5 images\n",
    "    * 1891 wrongly classified as non-5 (**F**alse **N**egatives)\n",
    "    * 3530 correctly classified as 5s (**T**rue **P**ositives)"
   ]
  },
  {
   "cell_type": "markdown",
   "id": "7781dcab",
   "metadata": {},
   "source": [
    "* A perfect classifier would have only True Positives and True Negatives"
   ]
  },
  {
   "cell_type": "code",
   "execution_count": 34,
   "id": "56d97b88",
   "metadata": {},
   "outputs": [
    {
     "data": {
      "text/plain": [
       "array([[54579,     0],\n",
       "       [    0,  5421]], dtype=int64)"
      ]
     },
     "execution_count": 34,
     "metadata": {},
     "output_type": "execute_result"
    }
   ],
   "source": [
    "y_train_perfect_predictions = y_train_5\n",
    "confusion_matrix(y_train_5, y_train_perfect_predictions)"
   ]
  },
  {
   "cell_type": "markdown",
   "id": "078368b5",
   "metadata": {},
   "source": [
    "### Precision & Recall"
   ]
  },
  {
   "cell_type": "markdown",
   "id": "f232345a",
   "metadata": {},
   "source": [
    "* Accuracy of the positive predictions : **Precision**. Out of the total Positive predicted by the model, what is the % of actual positive results."
   ]
  },
  {
   "cell_type": "markdown",
   "id": "b64a4882",
   "metadata": {},
   "source": [
    "**Precision** answers the question : What is the proportion of positive identifications correctly guessed."
   ]
  },
  {
   "cell_type": "markdown",
   "id": "6862127c",
   "metadata": {},
   "source": [
    "$Precision = \\frac{TP}{TP+FP}$"
   ]
  },
  {
   "cell_type": "markdown",
   "id": "04c7fdc8",
   "metadata": {},
   "source": [
    "TP : number of True Positives  \n",
    "FP : number of False Positives"
   ]
  },
  {
   "cell_type": "markdown",
   "id": "498b7ef5",
   "metadata": {},
   "source": [
    "* Precision is used with another metric called **Recall** (**Sensitivity** or TPR for **True Positive Rate**)"
   ]
  },
  {
   "cell_type": "markdown",
   "id": "af3b7fd0",
   "metadata": {},
   "source": [
    "**Recall** answers the question : What is the proportion of real positive results correctly identified."
   ]
  },
  {
   "cell_type": "markdown",
   "id": "9816de05",
   "metadata": {},
   "source": [
    "$Recall = \\frac{TP}{TP+FN}$"
   ]
  },
  {
   "cell_type": "markdown",
   "id": "47903543",
   "metadata": {},
   "source": [
    "FN : Number of false Negatives"
   ]
  },
  {
   "cell_type": "code",
   "execution_count": 42,
   "id": "82494ac3",
   "metadata": {},
   "outputs": [
    {
     "data": {
      "text/plain": [
       "0.8370879772350012"
      ]
     },
     "execution_count": 42,
     "metadata": {},
     "output_type": "execute_result"
    }
   ],
   "source": [
    "# precision score\n",
    "from sklearn.metrics import precision_score, recall_score\n",
    "\n",
    "precision_score(y_train_5,y_train_pred)"
   ]
  },
  {
   "cell_type": "code",
   "execution_count": 44,
   "id": "d45cb38a",
   "metadata": {},
   "outputs": [
    {
     "data": {
      "text/plain": [
       "0.8370879772350012"
      ]
     },
     "execution_count": 44,
     "metadata": {},
     "output_type": "execute_result"
    }
   ],
   "source": [
    "# precision alternative\n",
    "cm = confusion_matrix(y_train_5,y_train_pred)\n",
    "cm[1,1] / (cm[0,1]+cm[1,1])"
   ]
  },
  {
   "cell_type": "code",
   "execution_count": 43,
   "id": "012ccf42",
   "metadata": {},
   "outputs": [
    {
     "data": {
      "text/plain": [
       "0.6511713705958311"
      ]
     },
     "execution_count": 43,
     "metadata": {},
     "output_type": "execute_result"
    }
   ],
   "source": [
    "# recall score\n",
    "recall_score(y_train_5, y_train_pred)"
   ]
  },
  {
   "cell_type": "code",
   "execution_count": 46,
   "id": "73a0c890",
   "metadata": {},
   "outputs": [
    {
     "data": {
      "text/plain": [
       "0.6511713705958311"
      ]
     },
     "execution_count": 46,
     "metadata": {},
     "output_type": "execute_result"
    }
   ],
   "source": [
    "# recall alternative\n",
    "cm[1,1] / (cm[1,1]+cm[1,0])"
   ]
  },
  {
   "cell_type": "markdown",
   "id": "91d63d64",
   "metadata": {},
   "source": [
    "* When the model claims an image represents 5, it is correct 83% of the time (Precision)\n",
    "* The model detects 65% of the 5s (recall)"
   ]
  },
  {
   "cell_type": "markdown",
   "id": "01e5e697",
   "metadata": {},
   "source": [
    "### F1 Score"
   ]
  },
  {
   "cell_type": "markdown",
   "id": "95f87b78",
   "metadata": {},
   "source": [
    "We can combine **Precision** and  **Recall** in a single metric called the ${F}_{1}$ score. \n",
    "* ${F}_{1}$ is a **<i>harmonic mean</i>** of precision and recall, it's a mean that gives much more weight to low values.  \n",
    "=> The classifier will only get a high ${F}_{1}$ if both recall and precision are high."
   ]
  },
  {
   "cell_type": "markdown",
   "id": "137de29f",
   "metadata": {},
   "source": [
    "${F}_{1} = \\frac{2}{\\frac{1}{precision} + \\frac{1}{recall}} = 2 x \\frac{precision * recall}{precision + Recall} = \\frac{TP}{TP + \\frac{FN + FP}{2}}$"
   ]
  },
  {
   "cell_type": "code",
   "execution_count": 47,
   "id": "6fc48596",
   "metadata": {},
   "outputs": [
    {
     "data": {
      "text/plain": [
       "0.7325171197343846"
      ]
     },
     "execution_count": 47,
     "metadata": {},
     "output_type": "execute_result"
    }
   ],
   "source": [
    "# F1 Score in python\n",
    "from sklearn.metrics import f1_score\n",
    "\n",
    "f1_score(y_train_5, y_train_pred)"
   ]
  },
  {
   "cell_type": "code",
   "execution_count": 48,
   "id": "f07ea987",
   "metadata": {},
   "outputs": [
    {
     "data": {
      "text/plain": [
       "0.7325171197343847"
      ]
     },
     "execution_count": 48,
     "metadata": {},
     "output_type": "execute_result"
    }
   ],
   "source": [
    "# F1 Score alternative\n",
    "cm[1,1]/(cm[1,1] + (cm[1,0] + cm[0,1])/2)"
   ]
  },
  {
   "cell_type": "markdown",
   "id": "495346f0",
   "metadata": {},
   "source": [
    "Increasing precision reduces recall and vice versa. This is known as **Precision/Recall Tradeoff**"
   ]
  },
  {
   "cell_type": "markdown",
   "id": "ca07a2f7",
   "metadata": {},
   "source": [
    "## Precision vs Recall : Intuition"
   ]
  },
  {
   "cell_type": "markdown",
   "id": "9f65cdf1",
   "metadata": {},
   "source": [
    "**Recall**  \n",
    "Models need high recall when you need output-sensitive predictions. For example, predicting cancer or predicting terrorists needs a high recall, in other words, you need to cover false negatives as well. It is ok if a non-cancer tumor is flagged as cancerous but a cancerous tumor should not be labeled non-cancerous."
   ]
  },
  {
   "cell_type": "markdown",
   "id": "d727a539",
   "metadata": {},
   "source": [
    "**Precision**  \n",
    "Similarly, we need high precision in places such as recommendation engines, spam mail detection, etc. Where you don’t care about false negatives but focus more on true positives and false positives. It is ok if spam comes into the inbox folder but a really important mail shouldn’t go into the spam folder."
   ]
  },
  {
   "cell_type": "markdown",
   "id": "284772f4",
   "metadata": {},
   "source": [
    "### Precision/Recall TradeOff"
   ]
  },
  {
   "cell_type": "markdown",
   "id": "d2903aa2",
   "metadata": {},
   "source": [
    "Scikit learn doesn't allow setting the threshold directly but guves access to the decision score used to predict the model."
   ]
  },
  {
   "cell_type": "markdown",
   "id": "94fc84ba",
   "metadata": {},
   "source": [
    "todo : https://www.geeksforgeeks.org/ml-decision-function/"
   ]
  },
  {
   "cell_type": "code",
   "execution_count": 49,
   "id": "e6d6b9e0",
   "metadata": {},
   "outputs": [
    {
     "data": {
      "text/plain": [
       "array([2164.22030239])"
      ]
     },
     "execution_count": 49,
     "metadata": {},
     "output_type": "execute_result"
    }
   ],
   "source": [
    "y_scores = sgd_clf.decision_function([some_digit])\n",
    "y_scores"
   ]
  },
  {
   "cell_type": "code",
   "execution_count": 50,
   "id": "346ada32",
   "metadata": {},
   "outputs": [
    {
     "data": {
      "text/plain": [
       "array([ True])"
      ]
     },
     "execution_count": 50,
     "metadata": {},
     "output_type": "execute_result"
    }
   ],
   "source": [
    "threshold = 0\n",
    "y_some_digit_pred = (y_scores > threshold)\n",
    "y_some_digit_pred"
   ]
  },
  {
   "cell_type": "code",
   "execution_count": 51,
   "id": "8b22112f",
   "metadata": {},
   "outputs": [
    {
     "data": {
      "text/plain": [
       "array([False])"
      ]
     },
     "execution_count": 51,
     "metadata": {},
     "output_type": "execute_result"
    }
   ],
   "source": [
    "threshold = 8000\n",
    "y_some_digit_pred = (y_scores > threshold)\n",
    "y_some_digit_pred"
   ]
  },
  {
   "cell_type": "markdown",
   "id": "e2122ea7",
   "metadata": {},
   "source": [
    "* The image represents a **5**. The classifier detects it when the threshold is set to 0 but not when it's set to 8000.  \n",
    "\n",
    "=> Increasing the threshold decreases the recall"
   ]
  },
  {
   "cell_type": "markdown",
   "id": "168f61fe",
   "metadata": {},
   "source": [
    "* How to decide which threshold to use ?  \n"
   ]
  },
  {
   "cell_type": "code",
   "execution_count": 52,
   "id": "b3c11d93",
   "metadata": {},
   "outputs": [],
   "source": [
    "# get the scores of all instances using the cross_val_predict() with the decision function param\n",
    "y_scores = cross_val_predict(sgd_clf,X_train,y_train_5,cv=3,method='decision_function')\n"
   ]
  },
  {
   "cell_type": "code",
   "execution_count": 53,
   "id": "c4e4684b",
   "metadata": {},
   "outputs": [
    {
     "data": {
      "text/plain": [
       "array([  1200.93051237, -26883.79202424, -33072.03475406, ...,\n",
       "        13272.12718981,  -7258.47203373, -16877.50840447])"
      ]
     },
     "execution_count": 53,
     "metadata": {},
     "output_type": "execute_result"
    }
   ],
   "source": [
    "y_scores"
   ]
  },
  {
   "cell_type": "markdown",
   "id": "dfa7bd7e",
   "metadata": {},
   "source": [
    "* We compute precision and recall for all possible thresholds"
   ]
  },
  {
   "cell_type": "code",
   "execution_count": 54,
   "id": "e9dfbd57",
   "metadata": {},
   "outputs": [],
   "source": [
    "from sklearn.metrics import precision_recall_curve\n",
    "\n",
    "precisions, recalls, thresholds = precision_recall_curve(y_train_5, y_scores)"
   ]
  },
  {
   "cell_type": "markdown",
   "id": "83f6f68c",
   "metadata": {},
   "source": [
    "* We plot precision and recall as functions of the threshold"
   ]
  },
  {
   "cell_type": "code",
   "execution_count": 70,
   "id": "fca295ac",
   "metadata": {},
   "outputs": [
    {
     "data": {
      "text/plain": [
       "[<matplotlib.lines.Line2D at 0x1ea9f093970>]"
      ]
     },
     "execution_count": 70,
     "metadata": {},
     "output_type": "execute_result"
    },
    {
     "data": {
      "image/png": "[encoded data removed]",
      "text/plain": [
       "<Figure size 576x288 with 1 Axes>"
      ]
     },
     "metadata": {
      "needs_background": "light"
     },
     "output_type": "display_data"
    }
   ],
   "source": [
    "def plot_precision_recall_vs_threshold(precisions, recalls, thresholds):\n",
    "    plt.plot(thresholds, precisions[:-1],\"b--\",label='Precision')\n",
    "    plt.plot(thresholds, recalls[:-1],'g--',label='Recall')\n",
    "    plt.xlabel(\"Threshold\",fontsize=16)\n",
    "    plt.legend(loc='center left')\n",
    "    plt.grid(True) \n",
    "    plt.ylim([0,1])\n",
    "    plt.axis([-50000, 50000, 0, 1])\n",
    "    \n",
    "# draw a 90% intersection point\n",
    "recall_90_precision = recalls[np.argmax(precisions >=0.90)]\n",
    "threshold_90_precision = thresholds[np.argmax(precisions >= 0.9)]\n",
    "    \n",
    "plt.figure(figsize=(8, 4))\n",
    "plot_precision_recall_vs_threshold(precisions, recalls, thresholds)\n",
    "\n",
    "plt.plot([threshold_90_precision,threshold_90_precision],[0.9,0.9],'r:')\n",
    "#draw the lines\n",
    "plt.plot([-50000,threshold_90_precision],[0.9,0.9],'r:')\n",
    "plt.plot([-50000, threshold_90_precision], [recall_90_precision, recall_90_precision], \"r:\")\n",
    "# draw the points\n",
    "plt.plot([threshold_90_precision], [0.9], \"ro\")                                             \n",
    "plt.plot([threshold_90_precision], [recall_90_precision], \"ro\") "
   ]
  },
  {
   "cell_type": "markdown",
   "id": "9098b88e",
   "metadata": {},
   "source": [
    "* Precision curve can get bumpier cause the precision may go down when we raise the threshold.\n",
    "* Recall can only can only go down with a higher threshold, hence the smooth curve"
   ]
  },
  {
   "cell_type": "markdown",
   "id": "560c364e",
   "metadata": {},
   "source": [
    "* Another way to select a good threshold value is by plotting precision against recall"
   ]
  },
  {
   "cell_type": "code",
   "execution_count": 71,
   "id": "9358746a",
   "metadata": {},
   "outputs": [
    {
     "data": {
      "text/plain": [
       "[<matplotlib.lines.Line2D at 0x1eaa050d9a0>]"
      ]
     },
     "execution_count": 71,
     "metadata": {},
     "output_type": "execute_result"
    },
    {
     "name": "stdout",
     "output_type": "stream",
     "text": [
      "ERROR! Session/line number was not unique in database. History logging moved to new session 3839\n"
     ]
    },
    {
     "data": {
      "image/png": "[encoded data removed]",
      "text/plain": [
       "<Figure size 576x432 with 1 Axes>"
      ]
     },
     "metadata": {
      "needs_background": "light"
     },
     "output_type": "display_data"
    }
   ],
   "source": [
    "def plot_precision_vs_recall(precisions, recalls):\n",
    "    plt.plot(recalls, precisions,\"b-\",linewidth=2)\n",
    "    plt.xlabel('Recall', fontsize=16)\n",
    "    plt.ylabel('Precision', fontsize=16)\n",
    "    plt.axis([0,1,0,1])# ???\n",
    "    plt.grid(True)\n",
    "    \n",
    "plt.figure(figsize=(8,6))\n",
    "plot_precision_vs_recall(precisions, recalls)\n",
    "# draw lines\n",
    "plt.plot([recall_90_precision, recall_90_precision],[0.,0.9],'r:')\n",
    "plt.plot([0.0,recall_90_precision],[0.9,0.9],'r:')\n",
    "# draw the point\n",
    "plt.plot([recall_90_precision],[0.9],'ro')\n"
   ]
  },
  {
   "cell_type": "markdown",
   "id": "7ccf8804",
   "metadata": {},
   "source": [
    "* Precision starts brutally sinking around 80% recall. The sweet spot would be around 60% depending on our needs."
   ]
  },
  {
   "cell_type": "markdown",
   "id": "7c5255b5",
   "metadata": {},
   "source": [
    "Let's suppose we aim for a 90% precision, we identify the target threshold"
   ]
  },
  {
   "cell_type": "code",
   "execution_count": 72,
   "id": "6fa60bdb",
   "metadata": {},
   "outputs": [
    {
     "data": {
      "text/plain": [
       "3370.0194991439557"
      ]
     },
     "execution_count": 72,
     "metadata": {},
     "output_type": "execute_result"
    }
   ],
   "source": [
    "threshold_90_precision = thresholds[np.argmax(precisions >= 0.9)]\n",
    "threshold_90_precision"
   ]
  },
  {
   "cell_type": "markdown",
   "id": "5c5cafe6",
   "metadata": {},
   "source": [
    "We use this threshold to make predictions"
   ]
  },
  {
   "cell_type": "code",
   "execution_count": 73,
   "id": "60df8350",
   "metadata": {},
   "outputs": [],
   "source": [
    "y_train_pred_90 = (y_scores >= threshold_90_precision)"
   ]
  },
  {
   "cell_type": "code",
   "execution_count": 74,
   "id": "1ec7cc26",
   "metadata": {},
   "outputs": [
    {
     "data": {
      "text/plain": [
       "0.9000345901072293"
      ]
     },
     "execution_count": 74,
     "metadata": {},
     "output_type": "execute_result"
    }
   ],
   "source": [
    "precision_score(y_train_5,y_train_pred_90)"
   ]
  },
  {
   "cell_type": "code",
   "execution_count": 75,
   "id": "33dc5d86",
   "metadata": {},
   "outputs": [
    {
     "data": {
      "text/plain": [
       "0.4799852425751706"
      ]
     },
     "execution_count": 75,
     "metadata": {},
     "output_type": "execute_result"
    }
   ],
   "source": [
    "recall_score(y_train_5, y_train_pred_90)"
   ]
  },
  {
   "cell_type": "markdown",
   "id": "948addad",
   "metadata": {},
   "source": [
    "We get a 90% precision classifier. A high precision classifier is not very useful if its recall is too low."
   ]
  },
  {
   "cell_type": "code",
   "execution_count": null,
   "id": "0e8ce4be",
   "metadata": {},
   "outputs": [],
   "source": []
  }
 ],
 "metadata": {
  "kernelspec": {
   "display_name": "Python 3 (ipykernel)",
   "language": "python",
   "name": "python3"
  },
  "language_info": {
   "codemirror_mode": {
    "name": "ipython",
    "version": 3
   },
   "file_extension": ".py",
   "mimetype": "text/x-python",
   "name": "python",
   "nbconvert_exporter": "python",
   "pygments_lexer": "ipython3",
   "version": "3.8.2"
  }
 },
 "nbformat": 4,
 "nbformat_minor": 5
}
