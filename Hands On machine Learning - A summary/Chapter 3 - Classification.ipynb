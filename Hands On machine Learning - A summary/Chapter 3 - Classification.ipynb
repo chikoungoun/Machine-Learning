{
 "cells": [
  {
   "cell_type": "code",
   "execution_count": 1,
   "id": "4cf1a911",
   "metadata": {},
   "outputs": [],
   "source": [
    "import sys\n",
    "import os\n",
    "\n",
    "import numpy as np\n",
    "import sklearn\n",
    "\n",
    "import matplotlib as mpl\n",
    "import matplotlib.pyplot as plt\n",
    "\n"
   ]
  },
  {
   "cell_type": "markdown",
   "id": "88290c32",
   "metadata": {},
   "source": [
    "# MNIST"
   ]
  },
  {
   "cell_type": "markdown",
   "id": "4e603b64",
   "metadata": {},
   "source": [
    "* Fetch the **MNIST** dataset **Mixed National Institute of Standards and Technology**"
   ]
  },
  {
   "cell_type": "code",
   "execution_count": 2,
   "id": "726e8f90",
   "metadata": {},
   "outputs": [
    {
     "data": {
      "text/plain": [
       "dict_keys(['data', 'target', 'frame', 'categories', 'feature_names', 'target_names', 'DESCR', 'details', 'url'])"
      ]
     },
     "execution_count": 2,
     "metadata": {},
     "output_type": "execute_result"
    }
   ],
   "source": [
    "from sklearn.datasets import fetch_openml\n",
    "\n",
    "mnist = fetch_openml('mnist_784',version=1,as_frame=False)\n",
    "mnist.keys()"
   ]
  },
  {
   "cell_type": "code",
   "execution_count": 3,
   "id": "e86bf982",
   "metadata": {},
   "outputs": [
    {
     "data": {
      "text/plain": [
       "array([[0., 0., 0., ..., 0., 0., 0.],\n",
       "       [0., 0., 0., ..., 0., 0., 0.],\n",
       "       [0., 0., 0., ..., 0., 0., 0.],\n",
       "       ...,\n",
       "       [0., 0., 0., ..., 0., 0., 0.],\n",
       "       [0., 0., 0., ..., 0., 0., 0.],\n",
       "       [0., 0., 0., ..., 0., 0., 0.]])"
      ]
     },
     "execution_count": 3,
     "metadata": {},
     "output_type": "execute_result"
    }
   ],
   "source": [
    "mnist['data']"
   ]
  },
  {
   "cell_type": "code",
   "execution_count": 4,
   "id": "83a46fb6",
   "metadata": {},
   "outputs": [
    {
     "data": {
      "text/plain": [
       "\"**Author**: Yann LeCun, Corinna Cortes, Christopher J.C. Burges  \\n**Source**: [MNIST Website](http://yann.lecun.com/exdb/mnist/) - Date unknown  \\n**Please cite**:  \\n\\nThe MNIST database of handwritten digits with 784 features, raw data available at: http://yann.lecun.com/exdb/mnist/. It can be split in a training set of the first 60,000 examples, and a test set of 10,000 examples  \\n\\nIt is a subset of a larger set available from NIST. The digits have been size-normalized and centered in a fixed-size image. It is a good database for people who want to try learning techniques and pattern recognition methods on real-world data while spending minimal efforts on preprocessing and formatting. The original black and white (bilevel) images from NIST were size normalized to fit in a 20x20 pixel box while preserving their aspect ratio. The resulting images contain grey levels as a result of the anti-aliasing technique used by the normalization algorithm. the images were centered in a 28x28 image by computing the center of mass of the pixels, and translating the image so as to position this point at the center of the 28x28 field.  \\n\\nWith some classification methods (particularly template-based methods, such as SVM and K-nearest neighbors), the error rate improves when the digits are centered by bounding box rather than center of mass. If you do this kind of pre-processing, you should report it in your publications. The MNIST database was constructed from NIST's NIST originally designated SD-3 as their training set and SD-1 as their test set. However, SD-3 is much cleaner and easier to recognize than SD-1. The reason for this can be found on the fact that SD-3 was collected among Census Bureau employees, while SD-1 was collected among high-school students. Drawing sensible conclusions from learning experiments requires that the result be independent of the choice of training set and test among the complete set of samples. Therefore it was necessary to build a new database by mixing NIST's datasets.  \\n\\nThe MNIST training set is composed of 30,000 patterns from SD-3 and 30,000 patterns from SD-1. Our test set was composed of 5,000 patterns from SD-3 and 5,000 patterns from SD-1. The 60,000 pattern training set contained examples from approximately 250 writers. We made sure that the sets of writers of the training set and test set were disjoint. SD-1 contains 58,527 digit images written by 500 different writers. In contrast to SD-3, where blocks of data from each writer appeared in sequence, the data in SD-1 is scrambled. Writer identities for SD-1 is available and we used this information to unscramble the writers. We then split SD-1 in two: characters written by the first 250 writers went into our new training set. The remaining 250 writers were placed in our test set. Thus we had two sets with nearly 30,000 examples each. The new training set was completed with enough examples from SD-3, starting at pattern # 0, to make a full set of 60,000 training patterns. Similarly, the new test set was completed with SD-3 examples starting at pattern # 35,000 to make a full set with 60,000 test patterns. Only a subset of 10,000 test images (5,000 from SD-1 and 5,000 from SD-3) is available on this site. The full 60,000 sample training set is available.\\n\\nDownloaded from openml.org.\""
      ]
     },
     "execution_count": 4,
     "metadata": {},
     "output_type": "execute_result"
    }
   ],
   "source": [
    "mnist['DESCR']"
   ]
  },
  {
   "cell_type": "code",
   "execution_count": 5,
   "id": "cf753f53",
   "metadata": {},
   "outputs": [
    {
     "data": {
      "text/plain": [
       "(70000, 784)"
      ]
     },
     "execution_count": 5,
     "metadata": {},
     "output_type": "execute_result"
    }
   ],
   "source": [
    "X, y =mnist['data'],mnist['target']\n",
    "X.shape"
   ]
  },
  {
   "cell_type": "code",
   "execution_count": 6,
   "id": "40290351",
   "metadata": {},
   "outputs": [
    {
     "data": {
      "text/plain": [
       "(70000,)"
      ]
     },
     "execution_count": 6,
     "metadata": {},
     "output_type": "execute_result"
    }
   ],
   "source": [
    "y.shape"
   ]
  },
  {
   "cell_type": "markdown",
   "id": "b6493923",
   "metadata": {},
   "source": [
    "* 70,000 images with 784 features each representing a 28x28 pixel grid with a pixel intensity ranging from 0 to 255."
   ]
  },
  {
   "cell_type": "code",
   "execution_count": 7,
   "id": "5af44b42",
   "metadata": {},
   "outputs": [
    {
     "data": {
      "text/plain": [
       "784"
      ]
     },
     "execution_count": 7,
     "metadata": {},
     "output_type": "execute_result"
    }
   ],
   "source": [
    "len(X[0])"
   ]
  },
  {
   "cell_type": "code",
   "execution_count": 8,
   "id": "ea608f8d",
   "metadata": {},
   "outputs": [
    {
     "data": {
      "image/png": "[encoded data removed]",
      "text/plain": [
       "<Figure size 432x288 with 1 Axes>"
      ]
     },
     "metadata": {
      "needs_background": "light"
     },
     "output_type": "display_data"
    }
   ],
   "source": [
    "some_digit = X[0]#array representation of a number\n",
    "some_digit_image = some_digit.reshape(28,28)\n",
    "\n",
    "plt.imshow(some_digit_image,cmap=mpl.cm.binary)\n",
    "plt.axis('off')\n",
    "\n",
    "plt.show()"
   ]
  },
  {
   "cell_type": "code",
   "execution_count": 9,
   "id": "a654898b",
   "metadata": {},
   "outputs": [
    {
     "data": {
      "text/plain": [
       "'5'"
      ]
     },
     "execution_count": 9,
     "metadata": {},
     "output_type": "execute_result"
    }
   ],
   "source": [
    "y[0]"
   ]
  },
  {
   "cell_type": "code",
   "execution_count": 10,
   "id": "6cb95094",
   "metadata": {},
   "outputs": [
    {
     "data": {
      "text/plain": [
       "array([5, 0, 4, ..., 4, 5, 6], dtype=uint8)"
      ]
     },
     "execution_count": 10,
     "metadata": {},
     "output_type": "execute_result"
    }
   ],
   "source": [
    "y = y.astype(np.uint8)\n",
    "y"
   ]
  },
  {
   "cell_type": "markdown",
   "id": "c37b2d09",
   "metadata": {},
   "source": [
    "* Setting aside our test set. In this dataset they were already gathered as being the last 10,000 observations."
   ]
  },
  {
   "cell_type": "code",
   "execution_count": 11,
   "id": "7311eaea",
   "metadata": {},
   "outputs": [],
   "source": [
    "X_train, X_test, y_train, y_test = X[:60000],X[60000:],y[:60000],y[60000:]"
   ]
  },
  {
   "cell_type": "markdown",
   "id": "1e067ced",
   "metadata": {},
   "source": [
    "# Training a Binary Classifier"
   ]
  },
  {
   "cell_type": "markdown",
   "id": "9b45a897",
   "metadata": {},
   "source": [
    "We simplify the problem by focusing on a **binary classifier**, trying to detect whether it's a **5** or a **non-5** (2 classes)."
   ]
  },
  {
   "cell_type": "code",
   "execution_count": 12,
   "id": "100eb155",
   "metadata": {},
   "outputs": [],
   "source": [
    "y_train_5 = (y_train == 5)\n",
    "y_test_5 = (y_test == 5)"
   ]
  },
  {
   "cell_type": "markdown",
   "id": "c17c9172",
   "metadata": {},
   "source": [
    "* We start by training a Stochastic Gradient Descent (SGD) classifier."
   ]
  },
  {
   "cell_type": "code",
   "execution_count": 13,
   "id": "be5fbc31",
   "metadata": {},
   "outputs": [
    {
     "data": {
      "text/plain": [
       "SGDClassifier(random_state=42)"
      ]
     },
     "execution_count": 13,
     "metadata": {},
     "output_type": "execute_result"
    }
   ],
   "source": [
    "from sklearn.linear_model import SGDClassifier\n",
    "\n",
    "sgd_clf = SGDClassifier(random_state=42)\n",
    "sgd_clf.fit(X_train, y_train_5)"
   ]
  },
  {
   "cell_type": "markdown",
   "id": "25c9b250",
   "metadata": {},
   "source": [
    "* We use it to detect images of the number 5"
   ]
  },
  {
   "cell_type": "code",
   "execution_count": 14,
   "id": "b0453fb1",
   "metadata": {},
   "outputs": [
    {
     "data": {
      "text/plain": [
       "array([ True])"
      ]
     },
     "execution_count": 14,
     "metadata": {},
     "output_type": "execute_result"
    }
   ],
   "source": [
    "sgd_clf.predict([some_digit])"
   ]
  },
  {
   "cell_type": "markdown",
   "id": "0599793a",
   "metadata": {},
   "source": [
    "=> The classifier guesses that the image represents a 5."
   ]
  },
  {
   "cell_type": "markdown",
   "id": "2d578ff4",
   "metadata": {},
   "source": [
    "# Performance measures"
   ]
  },
  {
   "cell_type": "markdown",
   "id": "d4b08832",
   "metadata": {},
   "source": [
    "* Evaluating a classifier is trickier than evaluating a regressor."
   ]
  },
  {
   "cell_type": "markdown",
   "id": "fa0a8fdb",
   "metadata": {},
   "source": [
    "## Measuring accuracy using Cross-Validation"
   ]
  },
  {
   "cell_type": "markdown",
   "id": "b42933bb",
   "metadata": {},
   "source": [
    "### Stratified K-Folds"
   ]
  },
  {
   "cell_type": "markdown",
   "id": "6b8cbcda",
   "metadata": {},
   "source": [
    "Performs stratified sampling to produce folds with representative ratio of each class."
   ]
  },
  {
   "cell_type": "code",
   "execution_count": 15,
   "id": "5307564d",
   "metadata": {},
   "outputs": [
    {
     "name": "stdout",
     "output_type": "stream",
     "text": [
      "0.9669\n",
      "0.91625\n",
      "0.96785\n"
     ]
    }
   ],
   "source": [
    "from sklearn.model_selection import StratifiedKFold\n",
    "from sklearn.base import clone\n",
    "\n",
    "skfolds = StratifiedKFold(n_splits=3,shuffle=True,random_state=42)\n",
    "\n",
    "for train_index, test_index in skfolds.split(X_train, y_train_5):\n",
    "    clone_clf = clone(sgd_clf)\n",
    "    X_train_folds = X_train[train_index]\n",
    "    y_train_folds = y_train_5[train_index]\n",
    "    X_test_fold = X_train[test_index]\n",
    "    y_test_fold = y_train_5[test_index]\n",
    "    \n",
    "    clone_clf.fit(X_train_folds, y_train_folds)\n",
    "    y_pred = clone_clf.predict(X_test_fold)\n",
    "    n_correct = sum(y_pred == y_test_fold)\n",
    "    print(n_correct/len(y_pred))"
   ]
  },
  {
   "cell_type": "markdown",
   "id": "1c7c7a73",
   "metadata": {},
   "source": [
    "### Cross-Validation"
   ]
  },
  {
   "cell_type": "code",
   "execution_count": 16,
   "id": "8c435bee",
   "metadata": {},
   "outputs": [
    {
     "data": {
      "text/plain": [
       "array([0.95035, 0.96035, 0.9604 ])"
      ]
     },
     "execution_count": 16,
     "metadata": {},
     "output_type": "execute_result"
    }
   ],
   "source": [
    "from sklearn.model_selection import cross_val_score\n",
    "\n",
    "cross_val_score(sgd_clf, X_train, y_train_5, cv=3, scoring=\"accuracy\")"
   ]
  },
  {
   "cell_type": "markdown",
   "id": "d6ae3fec",
   "metadata": {},
   "source": [
    "* more than 95% accuracy on all folds"
   ]
  },
  {
   "cell_type": "markdown",
   "id": "f2e4dfbe",
   "metadata": {},
   "source": [
    "### Dumb Classifier"
   ]
  },
  {
   "cell_type": "markdown",
   "id": "c0717760",
   "metadata": {},
   "source": [
    "Classify as not-5 every single image"
   ]
  },
  {
   "cell_type": "code",
   "execution_count": 17,
   "id": "a81f5674",
   "metadata": {},
   "outputs": [],
   "source": [
    "from sklearn.base import BaseEstimator\n",
    "\n",
    "class Never5Classifier(BaseEstimator):\n",
    "    def fit(self, X, y=None):\n",
    "        pass\n",
    "    def predict(self, X):\n",
    "        return np.zeros((len(X),1),dtype=bool)"
   ]
  },
  {
   "cell_type": "code",
   "execution_count": 18,
   "id": "ae378524",
   "metadata": {},
   "outputs": [
    {
     "data": {
      "text/plain": [
       "array([0.91125, 0.90855, 0.90915])"
      ]
     },
     "execution_count": 18,
     "metadata": {},
     "output_type": "execute_result"
    }
   ],
   "source": [
    "never_5_clf = Never5Classifier()\n",
    "cross_val_score(never_5_clf, X_train, y_train_5, cv=3, scoring=\"accuracy\")"
   ]
  },
  {
   "cell_type": "markdown",
   "id": "98d95f2d",
   "metadata": {},
   "source": [
    "## Confusion Matrix"
   ]
  },
  {
   "cell_type": "markdown",
   "id": "e86e65c2",
   "metadata": {},
   "source": [
    "Confusion Matrix is a better way to evaluate the performance of a classifier. (count the number of times instances of class A are classified as class B)."
   ]
  },
  {
   "cell_type": "markdown",
   "id": "efaba604",
   "metadata": {},
   "source": [
    "* we need a set of predictions to compute the confusion matrix. We will use it on our train set to save the test one."
   ]
  },
  {
   "cell_type": "code",
   "execution_count": 19,
   "id": "3579ad06",
   "metadata": {},
   "outputs": [],
   "source": [
    "from sklearn.model_selection import cross_val_predict\n",
    "\n",
    "#returns a set of predictions after performing K-folds cross-validation\n",
    "y_train_pred = cross_val_predict(sgd_clf,X_train, y_train_5, cv=3)"
   ]
  },
  {
   "cell_type": "code",
   "execution_count": 20,
   "id": "87b20352",
   "metadata": {},
   "outputs": [
    {
     "data": {
      "text/plain": [
       "60000"
      ]
     },
     "execution_count": 20,
     "metadata": {},
     "output_type": "execute_result"
    }
   ],
   "source": [
    "len(y_train_pred)"
   ]
  },
  {
   "cell_type": "markdown",
   "id": "0c54d61b",
   "metadata": {},
   "source": [
    "* Confusion Matrix"
   ]
  },
  {
   "cell_type": "code",
   "execution_count": 21,
   "id": "c53f6498",
   "metadata": {},
   "outputs": [
    {
     "data": {
      "text/plain": [
       "array([[53892,   687],\n",
       "       [ 1891,  3530]], dtype=int64)"
      ]
     },
     "execution_count": 21,
     "metadata": {},
     "output_type": "execute_result"
    }
   ],
   "source": [
    "from sklearn.metrics import confusion_matrix\n",
    "\n",
    "confusion_matrix(y_train_5, y_train_pred)"
   ]
  },
  {
   "cell_type": "markdown",
   "id": "a929c48d",
   "metadata": {},
   "source": [
    "Each row represents an **actual class** while each column represents a **predicted class**"
   ]
  },
  {
   "cell_type": "code",
   "execution_count": 22,
   "id": "377faa87",
   "metadata": {},
   "outputs": [
    {
     "data": {
      "image/png": "[encoded data removed]",
      "text/plain": [
       "<IPython.core.display.Image object>"
      ]
     },
     "execution_count": 22,
     "metadata": {},
     "output_type": "execute_result"
    }
   ],
   "source": [
    "## Ipython image of confusion matrix\n",
    "from IPython.display import Image \n",
    "Image(\"media\\\\matrix.png\")"
   ]
  },
  {
   "cell_type": "markdown",
   "id": "54a8092d",
   "metadata": {},
   "source": [
    "* First row considers non-5 images\n",
    "    * 53892 correctly classified as non-5 (**T**rue **N**egatives)\n",
    "    * The rest was wrongly classifeif as 5s (**F**alse **P**ositives)\n",
    "    \n",
    "* Second row considers 5 images\n",
    "    * 1891 wrongly classified as non-5 (**F**alse **N**egatives)\n",
    "    * 3530 correctly classified as 5s (**T**rue **P**ositives)"
   ]
  },
  {
   "cell_type": "markdown",
   "id": "7781dcab",
   "metadata": {},
   "source": [
    "* A perfect classifier would have only True Positives and True Negatives"
   ]
  },
  {
   "cell_type": "code",
   "execution_count": 23,
   "id": "56d97b88",
   "metadata": {},
   "outputs": [
    {
     "data": {
      "text/plain": [
       "array([[54579,     0],\n",
       "       [    0,  5421]], dtype=int64)"
      ]
     },
     "execution_count": 23,
     "metadata": {},
     "output_type": "execute_result"
    }
   ],
   "source": [
    "y_train_perfect_predictions = y_train_5\n",
    "confusion_matrix(y_train_5, y_train_perfect_predictions)"
   ]
  },
  {
   "cell_type": "markdown",
   "id": "1f2d6207",
   "metadata": {},
   "source": [
    "### Precision & Recall"
   ]
  },
  {
   "cell_type": "markdown",
   "id": "f232345a",
   "metadata": {},
   "source": [
    "* Accuracy of the positive predictions : **Precision**. Out of the total Positive predicted by the model, what is the % of actual positive results."
   ]
  },
  {
   "cell_type": "markdown",
   "id": "b64a4882",
   "metadata": {},
   "source": [
    "**Precision** answers the question : What is the proportion of positive identifications correctly guessed."
   ]
  },
  {
   "cell_type": "markdown",
   "id": "6862127c",
   "metadata": {},
   "source": [
    "$Precision = \\frac{TP}{TP+FP}$"
   ]
  },
  {
   "cell_type": "markdown",
   "id": "04c7fdc8",
   "metadata": {},
   "source": [
    "TP : number of True Positives  \n",
    "FP : number of False Positives"
   ]
  },
  {
   "cell_type": "markdown",
   "id": "498b7ef5",
   "metadata": {},
   "source": [
    "* Precision is used with another metric called **Recall** (**Sensitivity** or TPR for **True Positive Rate**)"
   ]
  },
  {
   "cell_type": "markdown",
   "id": "af3b7fd0",
   "metadata": {},
   "source": [
    "**Recall** answers the question : What is the proportion of real positive results correctly identified."
   ]
  },
  {
   "cell_type": "markdown",
   "id": "9816de05",
   "metadata": {},
   "source": [
    "$Recall = \\frac{TP}{TP+FN}$"
   ]
  },
  {
   "cell_type": "markdown",
   "id": "47903543",
   "metadata": {},
   "source": [
    "FN : Number of false Negatives"
   ]
  },
  {
   "cell_type": "code",
   "execution_count": 24,
   "id": "82494ac3",
   "metadata": {},
   "outputs": [
    {
     "data": {
      "text/plain": [
       "0.8370879772350012"
      ]
     },
     "execution_count": 24,
     "metadata": {},
     "output_type": "execute_result"
    }
   ],
   "source": [
    "# precision score\n",
    "from sklearn.metrics import precision_score, recall_score\n",
    "\n",
    "precision_score(y_train_5,y_train_pred)"
   ]
  },
  {
   "cell_type": "code",
   "execution_count": 25,
   "id": "f5e8643f",
   "metadata": {},
   "outputs": [
    {
     "data": {
      "text/plain": [
       "0.8370879772350012"
      ]
     },
     "execution_count": 25,
     "metadata": {},
     "output_type": "execute_result"
    }
   ],
   "source": [
    "# precision alternative\n",
    "cm = confusion_matrix(y_train_5,y_train_pred)\n",
    "cm[1,1] / (cm[0,1]+cm[1,1])"
   ]
  },
  {
   "cell_type": "code",
   "execution_count": 26,
   "id": "fac3de4e",
   "metadata": {},
   "outputs": [
    {
     "data": {
      "text/plain": [
       "0.6511713705958311"
      ]
     },
     "execution_count": 26,
     "metadata": {},
     "output_type": "execute_result"
    }
   ],
   "source": [
    "# recall score\n",
    "recall_score(y_train_5, y_train_pred)"
   ]
  },
  {
   "cell_type": "code",
   "execution_count": 27,
   "id": "71db3f0e",
   "metadata": {},
   "outputs": [
    {
     "data": {
      "text/plain": [
       "0.6511713705958311"
      ]
     },
     "execution_count": 27,
     "metadata": {},
     "output_type": "execute_result"
    }
   ],
   "source": [
    "# recall alternative\n",
    "cm[1,1] / (cm[1,1]+cm[1,0])"
   ]
  },
  {
   "cell_type": "markdown",
   "id": "a39ebc4b",
   "metadata": {},
   "source": [
    "* When the model claims an image represents 5, it is correct 83% of the time (Precision)\n",
    "* The model detects 65% of the 5s (recall)"
   ]
  },
  {
   "cell_type": "markdown",
   "id": "c4be2ebe",
   "metadata": {},
   "source": [
    "### F1 Score"
   ]
  },
  {
   "cell_type": "markdown",
   "id": "f7e76fad",
   "metadata": {},
   "source": [
    "We can combine **Precision** and  **Recall** in a single metric called the ${F}_{1}$ score. \n",
    "* ${F}_{1}$ is a **<i>harmonic mean</i>** of precision and recall, it's a mean that gives much more weight to low values.  \n",
    "=> The classifier will only get a high ${F}_{1}$ if both recall and precision are high."
   ]
  },
  {
   "cell_type": "markdown",
   "id": "069545d2",
   "metadata": {},
   "source": [
    "${F}_{1} = \\frac{2}{\\frac{1}{precision} + \\frac{1}{recall}} = 2 x \\frac{precision * recall}{precision + Recall} = \\frac{TP}{TP + \\frac{FN + FP}{2}}$"
   ]
  },
  {
   "cell_type": "code",
   "execution_count": 28,
   "id": "464fd80a",
   "metadata": {},
   "outputs": [
    {
     "data": {
      "text/plain": [
       "0.7325171197343846"
      ]
     },
     "execution_count": 28,
     "metadata": {},
     "output_type": "execute_result"
    }
   ],
   "source": [
    "# F1 Score in python\n",
    "from sklearn.metrics import f1_score\n",
    "\n",
    "f1_score(y_train_5, y_train_pred)"
   ]
  },
  {
   "cell_type": "code",
   "execution_count": 29,
   "id": "299dd43a",
   "metadata": {},
   "outputs": [
    {
     "data": {
      "text/plain": [
       "0.7325171197343847"
      ]
     },
     "execution_count": 29,
     "metadata": {},
     "output_type": "execute_result"
    }
   ],
   "source": [
    "# F1 Score alternative\n",
    "cm[1,1]/(cm[1,1] + (cm[1,0] + cm[0,1])/2)"
   ]
  },
  {
   "cell_type": "markdown",
   "id": "a29095f6",
   "metadata": {},
   "source": [
    "Increasing precision reduces recall and vice versa. This is known as **Precision/Recall Tradeoff**"
   ]
  },
  {
   "cell_type": "markdown",
   "id": "7fd5e5f2",
   "metadata": {},
   "source": [
    "## Precision vs Recall : Intuition"
   ]
  },
  {
   "cell_type": "markdown",
   "id": "5c18ec17",
   "metadata": {},
   "source": [
    "**Recall**  \n",
    "Models need high recall when you need output-sensitive predictions. For example, predicting cancer or predicting terrorists needs a high recall, in other words, you need to cover false negatives as well. It is ok if a non-cancer tumor is flagged as cancerous but a cancerous tumor should not be labeled non-cancerous."
   ]
  },
  {
   "cell_type": "markdown",
   "id": "2df7ef8a",
   "metadata": {},
   "source": [
    "**Precision**  \n",
    "Similarly, we need high precision in places such as recommendation engines, spam mail detection, etc. Where you don’t care about false negatives but focus more on true positives and false positives. It is ok if spam comes into the inbox folder but a really important mail shouldn’t go into the spam folder."
   ]
  },
  {
   "cell_type": "markdown",
   "id": "4acd8c98",
   "metadata": {},
   "source": [
    "### Precision/Recall TradeOff"
   ]
  },
  {
   "cell_type": "markdown",
   "id": "c1c2e707",
   "metadata": {},
   "source": [
    "Scikit learn doesn't allow setting the threshold directly but guves access to the decision score used to predict the model."
   ]
  },
  {
   "cell_type": "markdown",
   "id": "e05580ec",
   "metadata": {},
   "source": [
    "todo : https://www.geeksforgeeks.org/ml-decision-function/"
   ]
  },
  {
   "cell_type": "code",
   "execution_count": 30,
   "id": "f6170282",
   "metadata": {},
   "outputs": [
    {
     "data": {
      "text/plain": [
       "array([2164.22030239])"
      ]
     },
     "execution_count": 30,
     "metadata": {},
     "output_type": "execute_result"
    }
   ],
   "source": [
    "y_scores = sgd_clf.decision_function([some_digit])\n",
    "y_scores"
   ]
  },
  {
   "cell_type": "code",
   "execution_count": 31,
   "id": "d2529556",
   "metadata": {},
   "outputs": [
    {
     "data": {
      "text/plain": [
       "array([ True])"
      ]
     },
     "execution_count": 31,
     "metadata": {},
     "output_type": "execute_result"
    }
   ],
   "source": [
    "threshold = 0\n",
    "y_some_digit_pred = (y_scores > threshold)\n",
    "y_some_digit_pred"
   ]
  },
  {
   "cell_type": "code",
   "execution_count": 32,
   "id": "9a1f20fe",
   "metadata": {},
   "outputs": [
    {
     "data": {
      "text/plain": [
       "array([False])"
      ]
     },
     "execution_count": 32,
     "metadata": {},
     "output_type": "execute_result"
    }
   ],
   "source": [
    "threshold = 8000\n",
    "y_some_digit_pred = (y_scores > threshold)\n",
    "y_some_digit_pred"
   ]
  },
  {
   "cell_type": "markdown",
   "id": "431350df",
   "metadata": {},
   "source": [
    "* The image represents a **5**. The classifier detects it when the threshold is set to 0 but not when it's set to 8000.  \n",
    "\n",
    "=> Increasing the threshold decreases the recall"
   ]
  },
  {
   "cell_type": "markdown",
   "id": "ae3c8609",
   "metadata": {},
   "source": [
    "* How to decide which threshold to use ?  \n"
   ]
  },
  {
   "cell_type": "code",
   "execution_count": 33,
   "id": "ef6f7282",
   "metadata": {},
   "outputs": [],
   "source": [
    "# get the scores of all instances using the cross_val_predict() with the decision function param\n",
    "y_scores = cross_val_predict(sgd_clf,X_train,y_train_5,cv=3,method='decision_function')\n"
   ]
  },
  {
   "cell_type": "code",
   "execution_count": 34,
   "id": "736e10a6",
   "metadata": {},
   "outputs": [
    {
     "data": {
      "text/plain": [
       "array([  1200.93051237, -26883.79202424, -33072.03475406, ...,\n",
       "        13272.12718981,  -7258.47203373, -16877.50840447])"
      ]
     },
     "execution_count": 34,
     "metadata": {},
     "output_type": "execute_result"
    }
   ],
   "source": [
    "y_scores"
   ]
  },
  {
   "cell_type": "markdown",
   "id": "feebdaf3",
   "metadata": {},
   "source": [
    "* We compute precision and recall for all possible thresholds"
   ]
  },
  {
   "cell_type": "code",
   "execution_count": 35,
   "id": "896ad9d8",
   "metadata": {},
   "outputs": [],
   "source": [
    "from sklearn.metrics import precision_recall_curve\n",
    "\n",
    "precisions, recalls, thresholds = precision_recall_curve(y_train_5, y_scores)"
   ]
  },
  {
   "cell_type": "markdown",
   "id": "3e64c297",
   "metadata": {},
   "source": [
    "* We plot precision and recall as functions of the threshold"
   ]
  },
  {
   "cell_type": "code",
   "execution_count": 36,
   "id": "ff330a40",
   "metadata": {},
   "outputs": [
    {
     "data": {
      "text/plain": [
       "[<matplotlib.lines.Line2D at 0x1d818a6d400>]"
      ]
     },
     "execution_count": 36,
     "metadata": {},
     "output_type": "execute_result"
    },
    {
     "data": {
      "image/png": "[encoded data removed]",
      "text/plain": [
       "<Figure size 576x288 with 1 Axes>"
      ]
     },
     "metadata": {
      "needs_background": "light"
     },
     "output_type": "display_data"
    }
   ],
   "source": [
    "def plot_precision_recall_vs_threshold(precisions, recalls, thresholds):\n",
    "    plt.plot(thresholds, precisions[:-1],\"b--\",label='Precision')\n",
    "    plt.plot(thresholds, recalls[:-1],'g--',label='Recall')\n",
    "    plt.xlabel(\"Threshold\",fontsize=16)\n",
    "    plt.legend(loc='center left')\n",
    "    plt.grid(True) \n",
    "    plt.ylim([0,1])\n",
    "    plt.axis([-50000, 50000, 0, 1])\n",
    "    \n",
    "# draw a 90% intersection point\n",
    "recall_90_precision = recalls[np.argmax(precisions >=0.90)]\n",
    "threshold_90_precision = thresholds[np.argmax(precisions >= 0.9)]\n",
    "    \n",
    "plt.figure(figsize=(8, 4))\n",
    "plot_precision_recall_vs_threshold(precisions, recalls, thresholds)\n",
    "\n",
    "plt.plot([threshold_90_precision,threshold_90_precision],[0.9,0.9],'r:')\n",
    "#draw the lines\n",
    "plt.plot([-50000,threshold_90_precision],[0.9,0.9],'r:')\n",
    "plt.plot([-50000, threshold_90_precision], [recall_90_precision, recall_90_precision], \"r:\")\n",
    "# draw the points\n",
    "plt.plot([threshold_90_precision], [0.9], \"ro\")                                             \n",
    "plt.plot([threshold_90_precision], [recall_90_precision], \"ro\") "
   ]
  },
  {
   "cell_type": "markdown",
   "id": "d264575a",
   "metadata": {},
   "source": [
    "* Precision curve can get bumpier cause the precision may go down when we raise the threshold.\n",
    "* Recall can only can only go down with a higher threshold, hence the smooth curve"
   ]
  },
  {
   "cell_type": "markdown",
   "id": "94b72755",
   "metadata": {},
   "source": [
    "* Another way to select a good threshold value is by plotting precision against recall"
   ]
  },
  {
   "cell_type": "code",
   "execution_count": 37,
   "id": "6eee740e",
   "metadata": {},
   "outputs": [
    {
     "data": {
      "text/plain": [
       "[<matplotlib.lines.Line2D at 0x1d818af44f0>]"
      ]
     },
     "execution_count": 37,
     "metadata": {},
     "output_type": "execute_result"
    },
    {
     "data": {
      "image/png": "[encoded data removed]",
      "text/plain": [
       "<Figure size 576x432 with 1 Axes>"
      ]
     },
     "metadata": {
      "needs_background": "light"
     },
     "output_type": "display_data"
    }
   ],
   "source": [
    "def plot_precision_vs_recall(precisions, recalls):\n",
    "    plt.plot(recalls, precisions,\"b-\",linewidth=2)\n",
    "    plt.xlabel('Recall', fontsize=16)\n",
    "    plt.ylabel('Precision', fontsize=16)\n",
    "    plt.axis([0,1,0,1])# ???\n",
    "    plt.grid(True)\n",
    "    \n",
    "plt.figure(figsize=(8,6))\n",
    "plot_precision_vs_recall(precisions, recalls)\n",
    "# draw lines\n",
    "plt.plot([recall_90_precision, recall_90_precision],[0.,0.9],'r:')\n",
    "plt.plot([0.0,recall_90_precision],[0.9,0.9],'r:')\n",
    "# draw the point\n",
    "plt.plot([recall_90_precision],[0.9],'ro')\n"
   ]
  },
  {
   "cell_type": "markdown",
   "id": "424cfda8",
   "metadata": {},
   "source": [
    "* Precision starts brutally sinking around 80% recall. The sweet spot would be around 60% depending on our needs."
   ]
  },
  {
   "cell_type": "markdown",
   "id": "bceff35f",
   "metadata": {},
   "source": [
    "Let's suppose we aim for a 90% precision, we identify the target threshold"
   ]
  },
  {
   "cell_type": "code",
   "execution_count": 38,
   "id": "8124b13b",
   "metadata": {},
   "outputs": [
    {
     "data": {
      "text/plain": [
       "3370.0194991439557"
      ]
     },
     "execution_count": 38,
     "metadata": {},
     "output_type": "execute_result"
    }
   ],
   "source": [
    "threshold_90_precision = thresholds[np.argmax(precisions >= 0.9)]\n",
    "threshold_90_precision"
   ]
  },
  {
   "cell_type": "markdown",
   "id": "a93a3406",
   "metadata": {},
   "source": [
    "We use this threshold to make predictions"
   ]
  },
  {
   "cell_type": "code",
   "execution_count": 39,
   "id": "b58b9740",
   "metadata": {},
   "outputs": [],
   "source": [
    "y_train_pred_90 = (y_scores >= threshold_90_precision)"
   ]
  },
  {
   "cell_type": "code",
   "execution_count": 40,
   "id": "8eb0168d",
   "metadata": {},
   "outputs": [
    {
     "data": {
      "text/plain": [
       "0.9000345901072293"
      ]
     },
     "execution_count": 40,
     "metadata": {},
     "output_type": "execute_result"
    }
   ],
   "source": [
    "precision_score(y_train_5,y_train_pred_90)"
   ]
  },
  {
   "cell_type": "code",
   "execution_count": 41,
   "id": "90ff4e95",
   "metadata": {},
   "outputs": [
    {
     "data": {
      "text/plain": [
       "0.4799852425751706"
      ]
     },
     "execution_count": 41,
     "metadata": {},
     "output_type": "execute_result"
    }
   ],
   "source": [
    "recall_score(y_train_5, y_train_pred_90)"
   ]
  },
  {
   "cell_type": "markdown",
   "id": "4e51e443",
   "metadata": {},
   "source": [
    "* We get a 90% precision classifier. It is pretty easy to create a classifier with any precision, its just needs a high enough threshold.  \n",
    "* A high precision classifier is not very useful if its recall is too low."
   ]
  },
  {
   "cell_type": "markdown",
   "id": "7cfaf9d4",
   "metadata": {},
   "source": [
    "\"If someone asks to reach for 99% precision, always ask at what recall ?\""
   ]
  },
  {
   "cell_type": "markdown",
   "id": "30f8b976",
   "metadata": {},
   "source": [
    "### The ROC Curve"
   ]
  },
  {
   "cell_type": "markdown",
   "id": "132e0e1a",
   "metadata": {},
   "source": [
    "* The **Receiver Operating Characteristic (ROC)** is another common tool used with binary classifiers.  \n",
    "* The **ROC Curve** plots the True Positive Rate TPR (Recall) against the Falase Positive Rate FPR."
   ]
  },
  {
   "cell_type": "markdown",
   "id": "31c8abbf",
   "metadata": {},
   "source": [
    "FPR : ratio of negative instances incorrectly classified as Positive. it is equal to 1 - TNR.  \n",
    "TNR **<i>(Specificity)</i>** : ratio of negative instances correclty classified as negative."
   ]
  },
  {
   "cell_type": "markdown",
   "id": "eac1dcaf",
   "metadata": {},
   "source": [
    "* ROC plots sensitivity (recall) versus 1 - specificity"
   ]
  },
  {
   "cell_type": "markdown",
   "id": "79e067bf",
   "metadata": {},
   "source": [
    "* To plot the ROC Curve we need to compute the TPR and FRP for various threshold values"
   ]
  },
  {
   "cell_type": "code",
   "execution_count": 42,
   "id": "a17d0aba",
   "metadata": {},
   "outputs": [],
   "source": [
    "from sklearn.metrics import roc_curve\n",
    "\n",
    "fpr, tpr, thresholds = roc_curve(y_train_5,y_scores)"
   ]
  },
  {
   "cell_type": "markdown",
   "id": "9e6710a6",
   "metadata": {},
   "source": [
    "* Then we plot the FPR against the TPR"
   ]
  },
  {
   "cell_type": "code",
   "execution_count": 43,
   "id": "f0567afc",
   "metadata": {},
   "outputs": [
    {
     "data": {
      "image/png": "[encoded data removed]",
      "text/plain": [
       "<Figure size 576x432 with 1 Axes>"
      ]
     },
     "metadata": {
      "needs_background": "light"
     },
     "output_type": "display_data"
    }
   ],
   "source": [
    "def plot_roc_curve(fpr,tpr,label=None):\n",
    "    plt.plot(fpr,tpr,linewidth=2, label=label)\n",
    "    plt.plot([0,1],[0,1],'k--')# dashed diagonal\n",
    "    plt.axis([0,1,0,1])\n",
    "    plt.xlabel('False Positive Rate (Fall-Out)',fontsize=16)\n",
    "    plt.ylabel('True Positive Rate (Recall)',fontsize=16)\n",
    "    plt.grid(True)\n",
    "    \n",
    "plt.figure(figsize=(8,6))\n",
    "plot_roc_curve(fpr,tpr)\n",
    "fpr_90 = fpr[np.argmax(tpr >= recall_90_precision)]\n",
    "plt.plot([fpr_90, fpr_90],[0.,recall_90_precision],'r:')\n",
    "plt.plot([0.0,fpr_90],[recall_90_precision,recall_90_precision],\"r:\")\n",
    "plt.plot([fpr_90],[recall_90_precision],\"ro\")#plot the red point\n",
    "\n",
    "plt.show()"
   ]
  },
  {
   "cell_type": "markdown",
   "id": "718888c8",
   "metadata": {},
   "source": [
    "* The dotted line represents the ROC curve of a purely random classifier.  \n",
    "A good classifier stays far away from the line. (top left corner)"
   ]
  },
  {
   "cell_type": "markdown",
   "id": "74866140",
   "metadata": {},
   "source": [
    "**TRADE OFF :** The higher the recall (TPR), the more false positives (FPR)  the classifier produces."
   ]
  },
  {
   "cell_type": "markdown",
   "id": "7e8b4ab9",
   "metadata": {},
   "source": [
    "### AUC "
   ]
  },
  {
   "cell_type": "markdown",
   "id": "7b61b110",
   "metadata": {},
   "source": [
    "**Area Under the Curve** is a way to compare classifiers.  \n",
    "* Perfect classifier will have a ROC AUC equal to 1\n",
    "* Purely random classifier will have a ROC AUC equal to 0.5"
   ]
  },
  {
   "cell_type": "code",
   "execution_count": 44,
   "id": "1899f5e1",
   "metadata": {},
   "outputs": [
    {
     "data": {
      "text/plain": [
       "0.9604938554008616"
      ]
     },
     "execution_count": 44,
     "metadata": {},
     "output_type": "execute_result"
    }
   ],
   "source": [
    "from sklearn.metrics import roc_auc_score\n",
    "\n",
    "roc_auc_score(y_train_5,y_scores)"
   ]
  },
  {
   "cell_type": "markdown",
   "id": "149f0469",
   "metadata": {},
   "source": [
    "#### Precision/Recall vs ROC AUC"
   ]
  },
  {
   "cell_type": "markdown",
   "id": "aee5bc19",
   "metadata": {},
   "source": [
    "We should prefer the PR Curve when we care more about the false positives than the false negatives (rare positives) otherwise we use the ROC AUC."
   ]
  },
  {
   "cell_type": "markdown",
   "id": "e104d8a8",
   "metadata": {},
   "source": [
    "#### ROC AUC : SGDClassifier vs RandomForest"
   ]
  },
  {
   "cell_type": "code",
   "execution_count": 45,
   "id": "dc56f77a",
   "metadata": {},
   "outputs": [],
   "source": [
    "from sklearn.ensemble import RandomForestClassifier\n",
    "\n",
    "forest_clf = RandomForestClassifier(n_estimators=100, random_state=42)\n",
    "y_proba_forest = cross_val_predict(forest_clf, X_train, y_train_5, cv=3,method='predict_proba')"
   ]
  },
  {
   "cell_type": "code",
   "execution_count": 46,
   "id": "24ac2f82",
   "metadata": {},
   "outputs": [],
   "source": [
    "y_scores_forest = y_proba_forest[:,1] # score = proba of positive class\n",
    "fpr_forest, tpr_forest, thresholds_forest = roc_curve(y_train_5,y_scores_forest)"
   ]
  },
  {
   "cell_type": "code",
   "execution_count": 47,
   "id": "6df4b21a",
   "metadata": {},
   "outputs": [
    {
     "data": {
      "text/plain": [
       "<matplotlib.legend.Legend at 0x1d819b4d100>"
      ]
     },
     "execution_count": 47,
     "metadata": {},
     "output_type": "execute_result"
    },
    {
     "data": {
      "image/png": "[encoded data removed]",
      "text/plain": [
       "<Figure size 576x432 with 1 Axes>"
      ]
     },
     "metadata": {
      "needs_background": "light"
     },
     "output_type": "display_data"
    }
   ],
   "source": [
    "recall_for_forest = tpr_forest[np.argmax(fpr_forest >= fpr_90)]\n",
    "\n",
    "plt.figure(figsize=(8,6))\n",
    "plt.plot(fpr, tpr,\"b:\",linewidth=2,label=\"SGD\")# fpr/tpr\n",
    "plot_roc_curve(fpr_forest, tpr_forest, \"Random Forest\")# ROC curve line\n",
    "\n",
    "# 90 precision for SGDClassifier \n",
    "plt.plot([fpr_90, fpr_90], [0., recall_90_precision], \"r:\")\n",
    "plt.plot([0.0, fpr_90], [recall_90_precision, recall_90_precision], \"r:\")\n",
    "plt.plot([fpr_90], [recall_90_precision], \"ro\")\n",
    "\n",
    "# 90 precision for Random Forest\n",
    "plt.plot([fpr_90, fpr_90], [0., recall_for_forest], \"r:\")\n",
    "plt.plot([fpr_90], [recall_for_forest], \"ro\")\n",
    "plt.grid(True)\n",
    "plt.legend(loc=\"lower right\", fontsize=16)"
   ]
  },
  {
   "cell_type": "code",
   "execution_count": 48,
   "id": "55131f47",
   "metadata": {},
   "outputs": [
    {
     "data": {
      "text/plain": [
       "0.9983436731328145"
      ]
     },
     "execution_count": 48,
     "metadata": {},
     "output_type": "execute_result"
    }
   ],
   "source": [
    "roc_auc_score(y_train_5, y_scores_forest)"
   ]
  },
  {
   "cell_type": "markdown",
   "id": "5baa2c04",
   "metadata": {},
   "source": [
    "We can clearly notice that the Random Forest Curve is much closer to the top left thant the SGDClassifier.  \n",
    "- ROC AUC Random Forest : 0.998\n",
    "- ROC AUC SGDC : 0.960"
   ]
  },
  {
   "cell_type": "code",
   "execution_count": 49,
   "id": "a50bd919",
   "metadata": {},
   "outputs": [
    {
     "data": {
      "text/plain": [
       "0.9905083315756169"
      ]
     },
     "execution_count": 49,
     "metadata": {},
     "output_type": "execute_result"
    }
   ],
   "source": [
    "# Random Forest Precision \n",
    "y_train_pred_forest = cross_val_predict(forest_clf, X_train, y_train_5, cv=3)\n",
    "precision_score(y_train_5, y_train_pred_forest)"
   ]
  },
  {
   "cell_type": "code",
   "execution_count": 50,
   "id": "784d47bc",
   "metadata": {},
   "outputs": [
    {
     "data": {
      "text/plain": [
       "0.8662608374838591"
      ]
     },
     "execution_count": 50,
     "metadata": {},
     "output_type": "execute_result"
    }
   ],
   "source": [
    "recall_score(y_train_5, y_train_pred_forest)"
   ]
  },
  {
   "cell_type": "markdown",
   "id": "13b8d5f3",
   "metadata": {},
   "source": [
    "### How to Train Binary Classifiers Review :"
   ]
  },
  {
   "cell_type": "markdown",
   "id": "a7ea75da",
   "metadata": {},
   "source": [
    "* Choose the appropriate metric\n",
    "* Evaluate classifier using cross validation\n",
    "* Select the precision/recall tradeoff that fits the need\n",
    "* Compare various models using ROC curves and ROC AUC scores\n"
   ]
  },
  {
   "cell_type": "markdown",
   "id": "a83c0fac",
   "metadata": {},
   "source": [
    "# Multiclass Classification"
   ]
  },
  {
   "cell_type": "markdown",
   "id": "a5084d97",
   "metadata": {},
   "source": [
    "!!! OvA x OvO"
   ]
  },
  {
   "cell_type": "code",
   "execution_count": 51,
   "id": "354d477c",
   "metadata": {},
   "outputs": [
    {
     "data": {
      "text/plain": [
       "array([3], dtype=uint8)"
      ]
     },
     "execution_count": 51,
     "metadata": {},
     "output_type": "execute_result"
    }
   ],
   "source": [
    "sgd_clf.fit(X_train,y_train)\n",
    "sgd_clf.predict([some_digit]) # should be 5"
   ]
  },
  {
   "cell_type": "markdown",
   "id": "4649fd75",
   "metadata": {},
   "source": [
    "Training on the original target classes (from 0 to 9).  \n",
    "Implicitly, Scikit-learn trained 10 binary classifiers, got the decision scores and selected the one with the highest score."
   ]
  },
  {
   "cell_type": "code",
   "execution_count": 52,
   "id": "4f0e5037",
   "metadata": {},
   "outputs": [
    {
     "data": {
      "text/plain": [
       "array([[-31893.03095419, -34419.69069632,  -9530.63950739,\n",
       "          1823.73154031, -22320.14822878,  -1385.80478895,\n",
       "        -26188.91070951, -16147.51323997,  -4604.35491274,\n",
       "        -12050.767298  ]])"
      ]
     },
     "execution_count": 52,
     "metadata": {},
     "output_type": "execute_result"
    }
   ],
   "source": [
    "some_digit_scores = sgd_clf.decision_function([some_digit])\n",
    "some_digit_scores"
   ]
  },
  {
   "cell_type": "markdown",
   "id": "edd08b6d",
   "metadata": {},
   "source": [
    "* We choose the one with the highest score "
   ]
  },
  {
   "cell_type": "code",
   "execution_count": 53,
   "id": "4075c249",
   "metadata": {},
   "outputs": [
    {
     "data": {
      "text/plain": [
       "3"
      ]
     },
     "execution_count": 53,
     "metadata": {},
     "output_type": "execute_result"
    }
   ],
   "source": [
    "np.argmax(some_digit_scores)# it should be 5"
   ]
  },
  {
   "cell_type": "markdown",
   "id": "19bb2504",
   "metadata": {},
   "source": [
    "* When a classifier is trained, it stores the list of target classes in its **classes_** attribute ordered by value"
   ]
  },
  {
   "cell_type": "code",
   "execution_count": 54,
   "id": "6f1144e2",
   "metadata": {},
   "outputs": [
    {
     "data": {
      "text/plain": [
       "array([0, 1, 2, 3, 4, 5, 6, 7, 8, 9], dtype=uint8)"
      ]
     },
     "execution_count": 54,
     "metadata": {},
     "output_type": "execute_result"
    }
   ],
   "source": [
    "sgd_clf.classes_"
   ]
  },
  {
   "cell_type": "markdown",
   "id": "1974192b",
   "metadata": {},
   "source": [
    "#### Forcing Scikitlearn to use OvO or OvA"
   ]
  },
  {
   "cell_type": "markdown",
   "id": "6dcea317",
   "metadata": {},
   "source": [
    "* simply by creating an instance and passing a binary classifier."
   ]
  },
  {
   "cell_type": "code",
   "execution_count": 55,
   "id": "eade3b3e",
   "metadata": {},
   "outputs": [
    {
     "data": {
      "text/plain": [
       "array([5], dtype=uint8)"
      ]
     },
     "execution_count": 55,
     "metadata": {},
     "output_type": "execute_result"
    }
   ],
   "source": [
    "from sklearn.multiclass import OneVsOneClassifier\n",
    "\n",
    "ovo_clf = OneVsOneClassifier(SGDClassifier(random_state=42))\n",
    "ovo_clf.fit(X_train,y_train)\n",
    "ovo_clf.predict([some_digit])"
   ]
  },
  {
   "cell_type": "code",
   "execution_count": 56,
   "id": "d2d164db",
   "metadata": {},
   "outputs": [
    {
     "data": {
      "text/plain": [
       "45"
      ]
     },
     "execution_count": 56,
     "metadata": {},
     "output_type": "execute_result"
    }
   ],
   "source": [
    "len(ovo_clf.estimators_)"
   ]
  },
  {
   "cell_type": "markdown",
   "id": "31d9f63b",
   "metadata": {},
   "source": [
    "* Random Forest do not need to run OvA or OvO cause it can directly classify instances into multiple classes."
   ]
  },
  {
   "cell_type": "code",
   "execution_count": 57,
   "id": "045437cf",
   "metadata": {},
   "outputs": [
    {
     "data": {
      "text/plain": [
       "array([5], dtype=uint8)"
      ]
     },
     "execution_count": 57,
     "metadata": {},
     "output_type": "execute_result"
    }
   ],
   "source": [
    "forest_clf.fit(X_train,y_train)\n",
    "forest_clf.predict([some_digit])"
   ]
  },
  {
   "cell_type": "code",
   "execution_count": 58,
   "id": "502bab8f",
   "metadata": {},
   "outputs": [
    {
     "data": {
      "text/plain": [
       "array([[0.  , 0.  , 0.01, 0.08, 0.  , 0.9 , 0.  , 0.  , 0.  , 0.01]])"
      ]
     },
     "execution_count": 58,
     "metadata": {},
     "output_type": "execute_result"
    }
   ],
   "source": [
    "forest_clf.predict_proba([some_digit])"
   ]
  },
  {
   "cell_type": "markdown",
   "id": "16944ee0",
   "metadata": {},
   "source": [
    "The classifier is confident at 90% that some digit is a \"5\".  \n",
    "It is confident at 1% that it is a \"2\" and 8% that it is a \"3\""
   ]
  },
  {
   "cell_type": "markdown",
   "id": "97175505",
   "metadata": {},
   "source": [
    "#### Evaluating the Classifiers"
   ]
  },
  {
   "cell_type": "code",
   "execution_count": 59,
   "id": "3fe6baa5",
   "metadata": {},
   "outputs": [
    {
     "data": {
      "text/plain": [
       "array([0.87365, 0.85835, 0.8689 ])"
      ]
     },
     "execution_count": 59,
     "metadata": {},
     "output_type": "execute_result"
    }
   ],
   "source": [
    "# takes time to run\n",
    "cross_val_score(sgd_clf, X_train, y_train, cv=3, scoring=\"accuracy\")"
   ]
  },
  {
   "cell_type": "markdown",
   "id": "9e49b7f8",
   "metadata": {},
   "source": [
    "With more than 85% accuracy on all folds it scores decent. But it can get better by scaling the inputs."
   ]
  },
  {
   "cell_type": "code",
   "execution_count": 60,
   "id": "fa48f0c9",
   "metadata": {},
   "outputs": [
    {
     "data": {
      "text/plain": [
       "array([0.8983, 0.891 , 0.9018])"
      ]
     },
     "execution_count": 60,
     "metadata": {},
     "output_type": "execute_result"
    }
   ],
   "source": [
    "from sklearn.preprocessing import StandardScaler\n",
    "\n",
    "scaler = StandardScaler()\n",
    "X_train_scaled = scaler.fit_transform(X_train.astype(np.float64))\n",
    "cross_val_score(sgd_clf,X_train_scaled,y_train,cv=3,scoring='accuracy')"
   ]
  },
  {
   "cell_type": "markdown",
   "id": "f8a8faa0",
   "metadata": {},
   "source": [
    "With scaling we can increase the accuracy to more than 89%"
   ]
  },
  {
   "cell_type": "markdown",
   "id": "a237222c",
   "metadata": {},
   "source": [
    "# Error Analysis"
   ]
  },
  {
   "cell_type": "markdown",
   "id": "bffe4f5d",
   "metadata": {},
   "source": [
    "Improving a model by analyzing the errors it makes."
   ]
  },
  {
   "cell_type": "markdown",
   "id": "9b7d8b4e",
   "metadata": {},
   "source": [
    "* Looking at the confusion matrix"
   ]
  },
  {
   "cell_type": "code",
   "execution_count": 61,
   "id": "89d290a9",
   "metadata": {},
   "outputs": [
    {
     "data": {
      "text/plain": [
       "array([[5577,    0,   22,    5,    8,   43,   36,    6,  225,    1],\n",
       "       [   0, 6400,   37,   24,    4,   44,    4,    7,  212,   10],\n",
       "       [  27,   27, 5220,   92,   73,   27,   67,   36,  378,   11],\n",
       "       [  22,   17,  117, 5227,    2,  203,   27,   40,  403,   73],\n",
       "       [  12,   14,   41,    9, 5182,   12,   34,   27,  347,  164],\n",
       "       [  27,   15,   30,  168,   53, 4444,   75,   14,  535,   60],\n",
       "       [  30,   15,   42,    3,   44,   97, 5552,    3,  131,    1],\n",
       "       [  21,   10,   51,   30,   49,   12,    3, 5684,  195,  210],\n",
       "       [  17,   63,   48,   86,    3,  126,   25,   10, 5429,   44],\n",
       "       [  25,   18,   30,   64,  118,   36,    1,  179,  371, 5107]],\n",
       "      dtype=int64)"
      ]
     },
     "execution_count": 61,
     "metadata": {},
     "output_type": "execute_result"
    }
   ],
   "source": [
    "# takes time to load\n",
    "y_train_pred = cross_val_predict(sgd_clf, X_train_scaled, y_train ,cv=3)\n",
    "conf_mx = confusion_matrix(y_train, y_train_pred)\n",
    "conf_mx"
   ]
  },
  {
   "cell_type": "markdown",
   "id": "721fae2c",
   "metadata": {},
   "source": [
    "* Image representation of the confusion matrix"
   ]
  },
  {
   "cell_type": "code",
   "execution_count": 62,
   "id": "29f991aa",
   "metadata": {},
   "outputs": [
    {
     "data": {
      "text/plain": [
       "<matplotlib.image.AxesImage at 0x1d819b15c40>"
      ]
     },
     "execution_count": 62,
     "metadata": {},
     "output_type": "execute_result"
    },
    {
     "data": {
      "image/png": "[encoded data removed]",
      "text/plain": [
       "<Figure size 288x288 with 1 Axes>"
      ]
     },
     "metadata": {
      "needs_background": "light"
     },
     "output_type": "display_data"
    }
   ],
   "source": [
    "plt.matshow(conf_mx, cmap= plt.cm.gray)"
   ]
  },
  {
   "cell_type": "markdown",
   "id": "ab46a740",
   "metadata": {},
   "source": [
    "* Error rate by divding each value in the confusion matrix by the number of images in the corresponding class."
   ]
  },
  {
   "cell_type": "code",
   "execution_count": 63,
   "id": "a678bb4e",
   "metadata": {},
   "outputs": [],
   "source": [
    "row_sums = conf_mx.sum(axis=1, keepdims=True)\n",
    "norm_conf_mx = conf_mx / row_sums"
   ]
  },
  {
   "cell_type": "markdown",
   "id": "113ee2e6",
   "metadata": {},
   "source": [
    "* We fill the diagonals with zeros to keep only the errors"
   ]
  },
  {
   "cell_type": "code",
   "execution_count": 64,
   "id": "8d7c4939",
   "metadata": {},
   "outputs": [
    {
     "data": {
      "text/plain": [
       "<matplotlib.image.AxesImage at 0x1d820158070>"
      ]
     },
     "execution_count": 64,
     "metadata": {},
     "output_type": "execute_result"
    },
    {
     "data": {
      "image/png": "[encoded data removed]",
      "text/plain": [
       "<Figure size 288x288 with 1 Axes>"
      ]
     },
     "metadata": {
      "needs_background": "light"
     },
     "output_type": "display_data"
    }
   ],
   "source": [
    "np.fill_diagonal(norm_conf_mx,0)\n",
    "plt.matshow(norm_conf_mx, cmap=plt.cm.gray)\n"
   ]
  },
  {
   "cell_type": "markdown",
   "id": "ce5c5608",
   "metadata": {},
   "source": [
    "* The brightness for the columns 8 and 9 tells us that many images gets misclassified as 8s and 9s.\n",
    "* Rows for 8s and 9s are also quite bright meaning that they get confused for other digits.\n",
    "* Row 1 is pretty dark, implying that it gets mostly correcty classified\n",
    "* Erros are not symetrical a there are more 5s misclassified as 8 than the other way around."
   ]
  },
  {
   "cell_type": "markdown",
   "id": "c90134a9",
   "metadata": {},
   "source": [
    "Confusion matrix gives useful insights on how to improve the classifier :\n",
    "* improve the classification of 8s and 9s\n",
    "* fix the 3/5 confusion\n",
    "This can be done by:\n",
    "- introducing more training data \n",
    "- help with new features (closed loops identification algorithm)\n",
    "- preprocess the images (Scikit-Image, Pillow, OpenCV)"
   ]
  },
  {
   "cell_type": "markdown",
   "id": "57651526",
   "metadata": {},
   "source": [
    "#### Individual errors analysis"
   ]
  },
  {
   "cell_type": "code",
   "execution_count": null,
   "id": "d3dba4ea",
   "metadata": {},
   "outputs": [],
   "source": []
  },
  {
   "cell_type": "code",
   "execution_count": 65,
   "id": "ab357797",
   "metadata": {},
   "outputs": [],
   "source": [
    "# EXTRA\n",
    "def plot_digits(instances, images_per_row=10, **options):\n",
    "    size = 28\n",
    "    images_per_row = min(len(instances), images_per_row)\n",
    "    # This is equivalent to n_rows = ceil(len(instances) / images_per_row):\n",
    "    n_rows = (len(instances) - 1) // images_per_row + 1\n",
    "\n",
    "    # Append empty images to fill the end of the grid, if needed:\n",
    "    n_empty = n_rows * images_per_row - len(instances)\n",
    "    padded_instances = np.concatenate([instances, np.zeros((n_empty, size * size))], axis=0)\n",
    "\n",
    "    # Reshape the array so it's organized as a grid containing 28×28 images:\n",
    "    image_grid = padded_instances.reshape((n_rows, images_per_row, size, size))\n",
    "\n",
    "    # Combine axes 0 and 2 (vertical image grid axis, and vertical image axis),\n",
    "    # and axes 1 and 3 (horizontal axes). We first need to move the axes that we\n",
    "    # want to combine next to each other, using transpose(), and only then we\n",
    "    # can reshape:\n",
    "    big_image = image_grid.transpose(0, 2, 1, 3).reshape(n_rows * size,\n",
    "                                                         images_per_row * size)\n",
    "    # Now that we have a big image, we just need to show it:\n",
    "    plt.imshow(big_image, cmap = mpl.cm.binary, **options)\n",
    "    plt.axis(\"off\")"
   ]
  },
  {
   "cell_type": "code",
   "execution_count": 66,
   "id": "c7d6254a",
   "metadata": {},
   "outputs": [
    {
     "data": {
      "image/png": "[encoded data removed]",
      "text/plain": [
       "<Figure size 576x576 with 4 Axes>"
      ]
     },
     "metadata": {
      "needs_background": "light"
     },
     "output_type": "display_data"
    }
   ],
   "source": [
    "cl_a, cl_b = 3, 5\n",
    "X_aa = X_train[(y_train == cl_a) & (y_train_pred == cl_a)]\n",
    "X_ab = X_train[(y_train == cl_a) & (y_train_pred == cl_b)]\n",
    "X_ba = X_train[(y_train == cl_b) & (y_train_pred == cl_a)]\n",
    "X_bb = X_train[(y_train == cl_b) & (y_train_pred == cl_b)]\n",
    "\n",
    "plt.figure(figsize=(8,8))\n",
    "plt.subplot(221); plot_digits(X_aa[:25], images_per_row=5)\n",
    "plt.subplot(222); plot_digits(X_ab[:25], images_per_row=5)\n",
    "plt.subplot(223); plot_digits(X_ba[:25], images_per_row=5)\n",
    "plt.subplot(224); plot_digits(X_bb[:25], images_per_row=5)"
   ]
  },
  {
   "cell_type": "markdown",
   "id": "986e2c60",
   "metadata": {},
   "source": [
    "* The 2 blocks on the left show digits classified as 3s.\n",
    "* The 2 blocks on the right show digits classified as 5s\n",
    "\n",
    "The reason for the so many misclassification is to be found within the SGDClassifier. SGDC is a linear model assigning weights per class to each pixel. 3s and 5s only differ by a few pixels which leads to such confusion."
   ]
  },
  {
   "cell_type": "markdown",
   "id": "9d1aadfd",
   "metadata": {},
   "source": [
    "# Multilabel Classification "
   ]
  },
  {
   "cell_type": "markdown",
   "id": "779e25fd",
   "metadata": {},
   "source": [
    "It is used when there are two or more classes and the data we want to classify may belong to none of the classes or all of them at the same time, e.g. to classify which traffic signs are contained on an image."
   ]
  },
  {
   "cell_type": "markdown",
   "id": "0011e46f",
   "metadata": {},
   "source": [
    "* Multilabel containing **large numbers (7,8,9)** and **odd numbers**"
   ]
  },
  {
   "cell_type": "code",
   "execution_count": 68,
   "id": "d4c6699c",
   "metadata": {},
   "outputs": [
    {
     "data": {
      "text/plain": [
       "array([[False,  True],\n",
       "       [False, False],\n",
       "       [False, False],\n",
       "       ...,\n",
       "       [False,  True],\n",
       "       [False, False],\n",
       "       [ True, False]])"
      ]
     },
     "execution_count": 68,
     "metadata": {},
     "output_type": "execute_result"
    }
   ],
   "source": [
    "from sklearn.neighbors import KNeighborsClassifier\n",
    "\n",
    "y_train_large = (y_train >= 7)\n",
    "y_train_odd = (y_train % 2 == 1)\n",
    "y_multilabel = np.c_[y_train_large, y_train_odd]\n",
    "y_multilabel# large and odd numbers labels"
   ]
  },
  {
   "cell_type": "markdown",
   "id": "3a58846c",
   "metadata": {},
   "source": [
    "* Training a mutlilabel knn classifier"
   ]
  },
  {
   "cell_type": "code",
   "execution_count": 69,
   "id": "0f057d72",
   "metadata": {},
   "outputs": [
    {
     "data": {
      "text/plain": [
       "KNeighborsClassifier()"
      ]
     },
     "execution_count": 69,
     "metadata": {},
     "output_type": "execute_result"
    }
   ],
   "source": [
    "knn_clf = KNeighborsClassifier()\n",
    "knn_clf.fit(X_train, y_multilabel)"
   ]
  },
  {
   "cell_type": "markdown",
   "id": "fad5200c",
   "metadata": {},
   "source": [
    "* Make a prediction"
   ]
  },
  {
   "cell_type": "code",
   "execution_count": 73,
   "id": "d351be38",
   "metadata": {},
   "outputs": [
    {
     "data": {
      "text/plain": [
       "array([[False,  True]])"
      ]
     },
     "execution_count": 73,
     "metadata": {},
     "output_type": "execute_result"
    }
   ],
   "source": [
    "# ([some_digit]) : image of 5\n",
    "knn_clf.predict([some_digit])"
   ]
  },
  {
   "cell_type": "code",
   "execution_count": null,
   "id": "4ea0cc73",
   "metadata": {},
   "outputs": [],
   "source": []
  }
 ],
 "metadata": {
  "kernelspec": {
   "display_name": "Python 3 (ipykernel)",
   "language": "python",
   "name": "python3"
  },
  "language_info": {
   "codemirror_mode": {
    "name": "ipython",
    "version": 3
   },
   "file_extension": ".py",
   "mimetype": "text/x-python",
   "name": "python",
   "nbconvert_exporter": "python",
   "pygments_lexer": "ipython3",
   "version": "3.8.2"
  }
 },
 "nbformat": 4,
 "nbformat_minor": 5
}
