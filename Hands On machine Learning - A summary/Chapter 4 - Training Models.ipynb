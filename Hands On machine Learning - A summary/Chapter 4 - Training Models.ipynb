{
 "cells": [
  {
   "cell_type": "code",
   "execution_count": 1,
   "id": "0abcbd29",
   "metadata": {},
   "outputs": [],
   "source": [
    "import numpy as np\n",
    "import pandas as pd\n",
    "import matplotlib.pyplot as plt\n",
    "%matplotlib inline"
   ]
  },
  {
   "cell_type": "code",
   "execution_count": 2,
   "id": "d392e0f5",
   "metadata": {},
   "outputs": [],
   "source": [
    "# to make this notebook's output stable across runs\n",
    "np.random.seed(42)"
   ]
  },
  {
   "cell_type": "markdown",
   "id": "897ed7b3",
   "metadata": {},
   "source": [
    "# Training Models"
   ]
  },
  {
   "cell_type": "markdown",
   "id": "4e543ce1",
   "metadata": {},
   "source": [
    "* **Closed Form equation :** directly computes the model parameters that best fit the model to the training set \n",
    "\n",
    "\n",
    "* **Iterative optimization approach :** called Gradient Descent that gradually tweaks the model parameters to minimize the cost functionover the training set"
   ]
  },
  {
   "cell_type": "markdown",
   "id": "9399c6f7",
   "metadata": {},
   "source": [
    "## Linear Regression Model"
   ]
  },
  {
   "cell_type": "markdown",
   "id": "04771f94",
   "metadata": {},
   "source": [
    "<h2>$\\hat{y} = h_{\\theta}(x) = \\theta^T . x $</h2>"
   ]
  },
  {
   "cell_type": "markdown",
   "id": "c9768824",
   "metadata": {},
   "source": [
    "with :  \n",
    "$\\theta$ : model's parameter vector  \n",
    "$\\theta^T$ : transpose of  $\\theta$  \n",
    "$x$ : instance's feature vector  \n",
    "$h_{\\theta}$ : hypothesis function"
   ]
  },
  {
   "cell_type": "markdown",
   "id": "2eff3573",
   "metadata": {},
   "source": [
    "The model is parametrized by the vector $\\theta$"
   ]
  },
  {
   "cell_type": "markdown",
   "id": "c7ed7940",
   "metadata": {},
   "source": [
    "### The normal Equation"
   ]
  },
  {
   "cell_type": "markdown",
   "id": "d41e38a2",
   "metadata": {},
   "source": [
    "To find the value of $\\theta$ that minimizes the cost function, there is a <i>closed-form solution</i> - in other words, a mathematical equation that gives the result directly. Called the **Normal Equation**."
   ]
  },
  {
   "cell_type": "markdown",
   "id": "b4e91c96",
   "metadata": {},
   "source": [
    "<h2>$\\hat{\\theta} = (X^T.X)^{-1}.X^T.y$</h2>"
   ]
  },
  {
   "cell_type": "markdown",
   "id": "bfd6e57a",
   "metadata": {},
   "source": [
    "with :  \n",
    "$\\hat{\\theta}$ : value of $\\theta$ that minimizes the cost function  \n",
    "**y** : is the vector of target values containing y1 to ym"
   ]
  },
  {
   "cell_type": "code",
   "execution_count": 3,
   "id": "c367790e",
   "metadata": {},
   "outputs": [
    {
     "data": {
      "text/plain": [
       "(0.0, 2.0, 0.0, 15.0)"
      ]
     },
     "execution_count": 3,
     "metadata": {},
     "output_type": "execute_result"
    },
    {
     "data": {
      "image/png": "[encoded data removed]",
      "text/plain": [
       "<Figure size 1008x576 with 1 Axes>"
      ]
     },
     "metadata": {
      "needs_background": "light"
     },
     "output_type": "display_data"
    }
   ],
   "source": [
    "# generate linear looking data to test the equation\n",
    "X = 2*np.random.rand(100,1)\n",
    "y = 4 + 3*X +np.random.randn(100,1) # 4x+3+gaussian noise\n",
    "\n",
    "plt.figure(figsize=(14,8))\n",
    "plt.scatter(X,y)\n",
    "plt.xlabel(\"$x_1$\", fontsize=18)\n",
    "plt.ylabel(\"$y$\", rotation=0, fontsize=18)\n",
    "plt.axis([0, 2, 0, 15])\n"
   ]
  },
  {
   "cell_type": "code",
   "execution_count": 4,
   "id": "65e62736",
   "metadata": {},
   "outputs": [],
   "source": [
    "X_b = np.c_[np.ones((100,1)),X] # add x0 = 1 to each instance\n",
    "theta_best = np.linalg.inv(X_b.T.dot(X_b)).dot(X_b.T).dot(y)"
   ]
  },
  {
   "cell_type": "code",
   "execution_count": 5,
   "id": "66299ae2",
   "metadata": {},
   "outputs": [
    {
     "data": {
      "text/plain": [
       "array([[4.21509616],\n",
       "       [2.77011339]])"
      ]
     },
     "execution_count": 5,
     "metadata": {},
     "output_type": "execute_result"
    }
   ],
   "source": [
    "theta_best"
   ]
  },
  {
   "cell_type": "markdown",
   "id": "626b69f9",
   "metadata": {},
   "source": [
    "We would hace hope for $\\theta_0$ = 4 and $\\theta_1$ = 3. But instead we got 4.215 and 2.77, cause of the noise that made it impossible to recover the exact parameters of the original function."
   ]
  },
  {
   "cell_type": "code",
   "execution_count": null,
   "id": "d12a77c3",
   "metadata": {},
   "outputs": [],
   "source": []
  }
 ],
 "metadata": {
  "kernelspec": {
   "display_name": "Python 3 (ipykernel)",
   "language": "python",
   "name": "python3"
  },
  "language_info": {
   "codemirror_mode": {
    "name": "ipython",
    "version": 3
   },
   "file_extension": ".py",
   "mimetype": "text/x-python",
   "name": "python",
   "nbconvert_exporter": "python",
   "pygments_lexer": "ipython3",
   "version": "3.8.2"
  }
 },
 "nbformat": 4,
 "nbformat_minor": 5
}
